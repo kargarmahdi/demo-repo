{
 "cells": [
  {
   "cell_type": "markdown",
   "id": "89da66d2",
   "metadata": {},
   "source": [
    "# Exercises"
   ]
  },
  {
   "cell_type": "markdown",
   "id": "57b87c3b",
   "metadata": {},
   "source": [
    "## 8.1 Check Protection"
   ]
  },
  {
   "cell_type": "code",
   "execution_count": 37,
   "id": "46286e1c",
   "metadata": {},
   "outputs": [],
   "source": [
    "import re\n",
    "import pandas as pd\n",
    "def check_protection(value):\n",
    "    result = re.fullmatch(r'(\\d+)(\\.)(\\d{2})', value)\n",
    "    if result:\n",
    "        dollar, dot, cent = result.groups()\n",
    "        asterisks = 7 - len(dollar)\n",
    "        symbol = '*'\n",
    "        safe_dollar = asterisks*symbol + dollar + dot + cent\n",
    "        return safe_dollar\n",
    "    else:\n",
    "        return value"
   ]
  },
  {
   "cell_type": "code",
   "execution_count": 40,
   "id": "da175c90",
   "metadata": {},
   "outputs": [
    {
     "data": {
      "text/plain": [
       "'***3500.00'"
      ]
     },
     "execution_count": 40,
     "metadata": {},
     "output_type": "execute_result"
    }
   ],
   "source": [
    "check_protection('3500.00')"
   ]
  },
  {
   "cell_type": "markdown",
   "id": "e227ba35",
   "metadata": {},
   "source": [
    "## 8.2"
   ]
  },
  {
   "cell_type": "code",
   "execution_count": 90,
   "id": "d8d4fea0",
   "metadata": {},
   "outputs": [
    {
     "name": "stdout",
     "output_type": "stream",
     "text": [
      "The sheep went around the camel.\n",
      "The horse jumped near the sheep.\n",
      "The sheep jumped around the camel.\n",
      "The pig went around the sheep.\n",
      "The horse jumped under the camel.\n",
      "The pig jumped above the sheep.\n",
      "The camel jumped under the sheep.\n",
      "The camel jumped near the camel.\n",
      "The pig went above the sheep.\n",
      "The horse went around the sheep.\n",
      "The camel hid under the sheep.\n",
      "The sheep jumped under the sheep.\n",
      "The sheep went around the horse.\n",
      "The pig jumped under the camel.\n",
      "The camel went under the sheep.\n",
      "The horse hid near the camel.\n",
      "The horse jumped near the sheep.\n",
      "The camel hid around the camel.\n",
      "The pig went around the camel.\n",
      "The sheep hid above the pig.\n"
     ]
    }
   ],
   "source": [
    "import random\n",
    "article = 'the'\n",
    "nouns = ['pig', 'horse', 'camel', 'sheep']\n",
    "verbs = ['hid', 'jumped', 'went']\n",
    "prepositions = ['under', 'above', 'near', 'around']\n",
    "for i in range(20):\n",
    "    rn1 = nouns[random.randint(0, len(nouns)-1)]\n",
    "    rn2 = nouns[random.randint(0, len(nouns)-1)]\n",
    "    rv = verbs[random.randint(0, len(verbs)-1)]\n",
    "    rp = prepositions[random.randint(0, len(prepositions)-1)]\n",
    "    print(f'{article.title()} {rn1} {rv} {rp} {article} {rn2}.')"
   ]
  },
  {
   "cell_type": "markdown",
   "id": "510a664a",
   "metadata": {},
   "source": [
    "## 8.3 Pig Latin"
   ]
  },
  {
   "cell_type": "code",
   "execution_count": 110,
   "id": "a4714955",
   "metadata": {},
   "outputs": [],
   "source": [
    "# for a single word\n",
    "import re\n",
    "def pig_latin_word(word):\n",
    "    result = re.fullmatch(r'([a-z])([a-z]+)', word)\n",
    "    if result:\n",
    "        first_letter, the_rest = result.groups()\n",
    "        if first_letter.startswith(('a','e','i','o','u')):\n",
    "            return the_rest + \"ay\"\n",
    "        else:\n",
    "            return the_rest + first_letter + \"ay\"\n",
    "    else:\n",
    "        return word"
   ]
  },
  {
   "cell_type": "code",
   "execution_count": 111,
   "id": "803110e5",
   "metadata": {},
   "outputs": [
    {
     "data": {
      "text/plain": [
       "'umpjay'"
      ]
     },
     "execution_count": 111,
     "metadata": {},
     "output_type": "execute_result"
    }
   ],
   "source": [
    "pig_latin_word('jump')"
   ]
  },
  {
   "cell_type": "code",
   "execution_count": 121,
   "id": "909d8dc3",
   "metadata": {},
   "outputs": [],
   "source": [
    "# for a sentence\n",
    "def pig_latin_sentence(sentence):\n",
    "    def pig_latin_word(word):\n",
    "        result = re.fullmatch(r'([a-z])([a-z]+)', word)\n",
    "        if result:\n",
    "            first_letter, the_rest = result.groups()\n",
    "            if first_letter.startswith(('a','e','i','o','u')):\n",
    "                return the_rest + \"ay\"\n",
    "            else:\n",
    "                return the_rest + first_letter + \"ay\"\n",
    "        else:\n",
    "            return word\n",
    "    words = sentence.split()\n",
    "    for i in words:\n",
    "        print(pig_latin_word(i), end=' ')"
   ]
  },
  {
   "cell_type": "code",
   "execution_count": 122,
   "id": "bc3e06a6",
   "metadata": {},
   "outputs": [
    {
     "name": "stdout",
     "output_type": "stream",
     "text": [
      "i may a ashaqday "
     ]
    }
   ],
   "source": [
    "pig_latin_sentence('i am a dashaq')"
   ]
  },
  {
   "cell_type": "markdown",
   "id": "852a334c",
   "metadata": {},
   "source": [
    "## 8.4 Reversing a Sentence"
   ]
  },
  {
   "cell_type": "code",
   "execution_count": 129,
   "id": "ff17ded1",
   "metadata": {},
   "outputs": [],
   "source": [
    "import re\n",
    "def reverse_sentence(sentence):\n",
    "    words = sentence.split()\n",
    "    for i in range(len(words)):\n",
    "        print((words[len(words) - i-1]),end=' ')"
   ]
  },
  {
   "cell_type": "code",
   "execution_count": 130,
   "id": "4720083f",
   "metadata": {},
   "outputs": [
    {
     "name": "stdout",
     "output_type": "stream",
     "text": [
      "goh a am i "
     ]
    }
   ],
   "source": [
    "reverse_sentence('i am a goh')"
   ]
  },
  {
   "cell_type": "markdown",
   "id": "d95f440f",
   "metadata": {},
   "source": [
    "## 8.5 Tokenizing and Comparing Strings"
   ]
  },
  {
   "cell_type": "code",
   "execution_count": 153,
   "id": "c729a677",
   "metadata": {},
   "outputs": [],
   "source": [
    "def which_has_b(sentence):\n",
    "    for word in sentence.split():\n",
    "        if word.startswith('b'):\n",
    "            print(word, end=' ')"
   ]
  },
  {
   "cell_type": "markdown",
   "id": "80be46d1",
   "metadata": {},
   "source": [
    "## 8.6 Tokenizing and Comparing Strings"
   ]
  },
  {
   "cell_type": "code",
   "execution_count": 159,
   "id": "42ecae5d",
   "metadata": {},
   "outputs": [],
   "source": [
    "def which_ends_with_ed(sentence):\n",
    "    for word in sentence.split(' '):\n",
    "        if word.endswith('ed'):\n",
    "            print(word, end=' ')"
   ]
  },
  {
   "cell_type": "code",
   "execution_count": 164,
   "id": "13a9e9ff",
   "metadata": {},
   "outputs": [
    {
     "name": "stdout",
     "output_type": "stream",
     "text": [
      "fucked wanted "
     ]
    }
   ],
   "source": [
    "which_ends_with_ed('that fucked up guy that wanted to kill you')"
   ]
  },
  {
   "cell_type": "markdown",
   "id": "129f66b8",
   "metadata": {},
   "source": [
    "## 8.7 Converting Integers to Characters"
   ]
  },
  {
   "cell_type": "code",
   "execution_count": 169,
   "id": "5bba0bc5",
   "metadata": {},
   "outputs": [
    {
     "name": "stdout",
     "output_type": "stream",
     "text": [
      "0 ----> \u0000\n",
      "1 ----> \u0001\n",
      "2 ----> \u0002\n",
      "3 ----> \u0003\n",
      "4 ----> \u0004\n",
      "5 ----> \u0005\n",
      "6 ----> \u0006\n",
      "7 ----> \u0007\n",
      "8 ----> \b\n",
      "9 ----> \t\n",
      "10 ----> \n",
      "\n",
      "11 ----> \u000b",
      "\n",
      "12 ----> \f",
      "\n",
      "13 ----> \r\n",
      "14 ----> \u000e\n",
      "15 ----> \u000f\n",
      "16 ----> \u0010\n",
      "17 ----> \u0011\n",
      "18 ----> \u0012\n",
      "19 ----> \u0013\n",
      "20 ----> \u0014\n",
      "21 ----> \u0015\n",
      "22 ----> \u0016\n",
      "23 ----> \u0017\n",
      "24 ----> \u0018\n",
      "25 ----> \u0019\n",
      "26 ----> \u001a\n",
      "27 ----> \u001b\n",
      "28 ----> \u001c",
      "\n",
      "29 ----> \u001d",
      "\n",
      "30 ----> \u001e",
      "\n",
      "31 ----> \u001f\n",
      "32 ---->  \n",
      "33 ----> !\n",
      "34 ----> \"\n",
      "35 ----> #\n",
      "36 ----> $\n",
      "37 ----> %\n",
      "38 ----> &\n",
      "39 ----> '\n",
      "40 ----> (\n",
      "41 ----> )\n",
      "42 ----> *\n",
      "43 ----> +\n",
      "44 ----> ,\n",
      "45 ----> -\n",
      "46 ----> .\n",
      "47 ----> /\n",
      "48 ----> 0\n",
      "49 ----> 1\n",
      "50 ----> 2\n",
      "51 ----> 3\n",
      "52 ----> 4\n",
      "53 ----> 5\n",
      "54 ----> 6\n",
      "55 ----> 7\n",
      "56 ----> 8\n",
      "57 ----> 9\n",
      "58 ----> :\n",
      "59 ----> ;\n",
      "60 ----> <\n",
      "61 ----> =\n",
      "62 ----> >\n",
      "63 ----> ?\n",
      "64 ----> @\n",
      "65 ----> A\n",
      "66 ----> B\n",
      "67 ----> C\n",
      "68 ----> D\n",
      "69 ----> E\n",
      "70 ----> F\n",
      "71 ----> G\n",
      "72 ----> H\n",
      "73 ----> I\n",
      "74 ----> J\n",
      "75 ----> K\n",
      "76 ----> L\n",
      "77 ----> M\n",
      "78 ----> N\n",
      "79 ----> O\n",
      "80 ----> P\n",
      "81 ----> Q\n",
      "82 ----> R\n",
      "83 ----> S\n",
      "84 ----> T\n",
      "85 ----> U\n",
      "86 ----> V\n",
      "87 ----> W\n",
      "88 ----> X\n",
      "89 ----> Y\n",
      "90 ----> Z\n",
      "91 ----> [\n",
      "92 ----> \\\n",
      "93 ----> ]\n",
      "94 ----> ^\n",
      "95 ----> _\n",
      "96 ----> `\n",
      "97 ----> a\n",
      "98 ----> b\n",
      "99 ----> c\n",
      "100 ----> d\n",
      "101 ----> e\n",
      "102 ----> f\n",
      "103 ----> g\n",
      "104 ----> h\n",
      "105 ----> i\n",
      "106 ----> j\n",
      "107 ----> k\n",
      "108 ----> l\n",
      "109 ----> m\n",
      "110 ----> n\n",
      "111 ----> o\n",
      "112 ----> p\n",
      "113 ----> q\n",
      "114 ----> r\n",
      "115 ----> s\n",
      "116 ----> t\n",
      "117 ----> u\n",
      "118 ----> v\n",
      "119 ----> w\n",
      "120 ----> x\n",
      "121 ----> y\n",
      "122 ----> z\n",
      "123 ----> {\n",
      "124 ----> |\n",
      "125 ----> }\n",
      "126 ----> ~\n",
      "127 ----> \n",
      "128 ----> \n",
      "129 ----> \n",
      "130 ----> \n",
      "131 ----> \n",
      "132 ----> \n",
      "133 ----> ",
      "\n",
      "134 ----> \n",
      "135 ----> \n",
      "136 ----> \n",
      "137 ----> \n",
      "138 ----> \n",
      "139 ----> \n",
      "140 ----> \n",
      "141 ----> \n",
      "142 ----> \n",
      "143 ----> \n",
      "144 ----> \n",
      "145 ----> \n",
      "146 ----> \n",
      "147 ----> \n",
      "148 ----> \n",
      "149 ----> \n",
      "150 ----> \n",
      "151 ----> \n",
      "152 ----> \n",
      "153 ----> \n",
      "154 ----> \n",
      "155 ----> \n",
      "156 ----> \n",
      "157 ----> \n",
      "158 ----> \n",
      "159 ----> \n",
      "160 ---->  \n",
      "161 ----> ¡\n",
      "162 ----> ¢\n",
      "163 ----> £\n",
      "164 ----> ¤\n",
      "165 ----> ¥\n",
      "166 ----> ¦\n",
      "167 ----> §\n",
      "168 ----> ¨\n",
      "169 ----> ©\n",
      "170 ----> ª\n",
      "171 ----> «\n",
      "172 ----> ¬\n",
      "173 ----> ­\n",
      "174 ----> ®\n",
      "175 ----> ¯\n",
      "176 ----> °\n",
      "177 ----> ±\n",
      "178 ----> ²\n",
      "179 ----> ³\n",
      "180 ----> ´\n",
      "181 ----> µ\n",
      "182 ----> ¶\n",
      "183 ----> ·\n",
      "184 ----> ¸\n",
      "185 ----> ¹\n",
      "186 ----> º\n",
      "187 ----> »\n",
      "188 ----> ¼\n",
      "189 ----> ½\n",
      "190 ----> ¾\n",
      "191 ----> ¿\n",
      "192 ----> À\n",
      "193 ----> Á\n",
      "194 ----> Â\n",
      "195 ----> Ã\n",
      "196 ----> Ä\n",
      "197 ----> Å\n",
      "198 ----> Æ\n",
      "199 ----> Ç\n",
      "200 ----> È\n",
      "201 ----> É\n",
      "202 ----> Ê\n",
      "203 ----> Ë\n",
      "204 ----> Ì\n",
      "205 ----> Í\n",
      "206 ----> Î\n",
      "207 ----> Ï\n",
      "208 ----> Ð\n",
      "209 ----> Ñ\n",
      "210 ----> Ò\n",
      "211 ----> Ó\n",
      "212 ----> Ô\n",
      "213 ----> Õ\n",
      "214 ----> Ö\n",
      "215 ----> ×\n",
      "216 ----> Ø\n",
      "217 ----> Ù\n",
      "218 ----> Ú\n",
      "219 ----> Û\n",
      "220 ----> Ü\n",
      "221 ----> Ý\n",
      "222 ----> Þ\n",
      "223 ----> ß\n",
      "224 ----> à\n",
      "225 ----> á\n",
      "226 ----> â\n",
      "227 ----> ã\n",
      "228 ----> ä\n",
      "229 ----> å\n",
      "230 ----> æ\n",
      "231 ----> ç\n",
      "232 ----> è\n",
      "233 ----> é\n",
      "234 ----> ê\n",
      "235 ----> ë\n",
      "236 ----> ì\n",
      "237 ----> í\n",
      "238 ----> î\n",
      "239 ----> ï\n",
      "240 ----> ð\n",
      "241 ----> ñ\n",
      "242 ----> ò\n",
      "243 ----> ó\n",
      "244 ----> ô\n",
      "245 ----> õ\n",
      "246 ----> ö\n",
      "247 ----> ÷\n",
      "248 ----> ø\n",
      "249 ----> ù\n",
      "250 ----> ú\n",
      "251 ----> û\n",
      "252 ----> ü\n",
      "253 ----> ý\n",
      "254 ----> þ\n",
      "255 ----> ÿ\n"
     ]
    }
   ],
   "source": [
    "for i in range(256):\n",
    "    print(f'{i} ----> {i:c}')"
   ]
  },
  {
   "cell_type": "markdown",
   "id": "bb8057d3",
   "metadata": {},
   "source": [
    "## 8.8 Converting Integers to Emojis"
   ]
  },
  {
   "cell_type": "code",
   "execution_count": 176,
   "id": "689277f9",
   "metadata": {},
   "outputs": [
    {
     "name": "stdout",
     "output_type": "stream",
     "text": [
      "129316 ----> 🤤\n",
      "129322 ----> 🤪\n",
      "128514 ----> 😂\n",
      "129296 ----> 🤐\n",
      "128528 ----> 😐\n",
      "128529 ----> 😑\n",
      "128565 ----> 😵\n",
      "129297 ----> 🤑\n",
      "129300 ----> 🤔\n",
      "128525 ----> 😍\n"
     ]
    }
   ],
   "source": [
    "emoji_codes = [0x1F924, 0x1F92A, 0x1F602, 0x1F910, 0x1F610, 0x1F611, 0x1F635, 0x1F911, 0x1F914, 0x1F60D]\n",
    "for code in emoji_codes:\n",
    "    print(f'{code} ----> {code:c}')"
   ]
  },
  {
   "cell_type": "markdown",
   "id": "3e199b75",
   "metadata": {},
   "source": [
    "## 8.9 Creating Three-Letter Strings from a Five-Letter Word"
   ]
  },
  {
   "cell_type": "code",
   "execution_count": 200,
   "id": "0ba39d52",
   "metadata": {},
   "outputs": [],
   "source": [
    "import re\n",
    "def three_letter(word):\n",
    "    result = re.fullmatch(r'\\w{5}', word)\n",
    "    results = []\n",
    "    if result:\n",
    "        list_of_word = list(word)\n",
    "        for i in list_of_word:\n",
    "            for j in list_of_word:\n",
    "                for k in list_of_word:\n",
    "                    if i!=j:\n",
    "                        if j!=k:\n",
    "                            if i!=k:\n",
    "                                results.append(f'{i}{j}{k}')\n",
    "        return results\n",
    "    else:\n",
    "        return 'Enter proper letter'"
   ]
  },
  {
   "cell_type": "code",
   "execution_count": 202,
   "id": "2f521e4a",
   "metadata": {},
   "outputs": [
    {
     "data": {
      "text/plain": [
       "['bat',\n",
       " 'bah',\n",
       " 'bae',\n",
       " 'bta',\n",
       " 'bth',\n",
       " 'bte',\n",
       " 'bha',\n",
       " 'bht',\n",
       " 'bhe',\n",
       " 'bea',\n",
       " 'bet',\n",
       " 'beh',\n",
       " 'abt',\n",
       " 'abh',\n",
       " 'abe',\n",
       " 'atb',\n",
       " 'ath',\n",
       " 'ate',\n",
       " 'ahb',\n",
       " 'aht',\n",
       " 'ahe',\n",
       " 'aeb',\n",
       " 'aet',\n",
       " 'aeh',\n",
       " 'tba',\n",
       " 'tbh',\n",
       " 'tbe',\n",
       " 'tab',\n",
       " 'tah',\n",
       " 'tae',\n",
       " 'thb',\n",
       " 'tha',\n",
       " 'the',\n",
       " 'teb',\n",
       " 'tea',\n",
       " 'teh',\n",
       " 'hba',\n",
       " 'hbt',\n",
       " 'hbe',\n",
       " 'hab',\n",
       " 'hat',\n",
       " 'hae',\n",
       " 'htb',\n",
       " 'hta',\n",
       " 'hte',\n",
       " 'heb',\n",
       " 'hea',\n",
       " 'het',\n",
       " 'eba',\n",
       " 'ebt',\n",
       " 'ebh',\n",
       " 'eab',\n",
       " 'eat',\n",
       " 'eah',\n",
       " 'etb',\n",
       " 'eta',\n",
       " 'eth',\n",
       " 'ehb',\n",
       " 'eha',\n",
       " 'eht']"
      ]
     },
     "execution_count": 202,
     "metadata": {},
     "output_type": "execute_result"
    }
   ],
   "source": [
    "three_letter('bathe')"
   ]
  },
  {
   "cell_type": "code",
   "execution_count": 1,
   "id": "3b710d80",
   "metadata": {},
   "outputs": [
    {
     "name": "stdout",
     "output_type": "stream",
     "text": [
      "('b', 'a', 't')\n",
      "('b', 'a', 'h')\n",
      "('b', 'a', 'e')\n",
      "('b', 't', 'a')\n",
      "('b', 't', 'h')\n",
      "('b', 't', 'e')\n",
      "('b', 'h', 'a')\n",
      "('b', 'h', 't')\n",
      "('b', 'h', 'e')\n",
      "('b', 'e', 'a')\n",
      "('b', 'e', 't')\n",
      "('b', 'e', 'h')\n",
      "('a', 'b', 't')\n",
      "('a', 'b', 'h')\n",
      "('a', 'b', 'e')\n",
      "('a', 't', 'b')\n",
      "('a', 't', 'h')\n",
      "('a', 't', 'e')\n",
      "('a', 'h', 'b')\n",
      "('a', 'h', 't')\n",
      "('a', 'h', 'e')\n",
      "('a', 'e', 'b')\n",
      "('a', 'e', 't')\n",
      "('a', 'e', 'h')\n",
      "('t', 'b', 'a')\n",
      "('t', 'b', 'h')\n",
      "('t', 'b', 'e')\n",
      "('t', 'a', 'b')\n",
      "('t', 'a', 'h')\n",
      "('t', 'a', 'e')\n",
      "('t', 'h', 'b')\n",
      "('t', 'h', 'a')\n",
      "('t', 'h', 'e')\n",
      "('t', 'e', 'b')\n",
      "('t', 'e', 'a')\n",
      "('t', 'e', 'h')\n",
      "('h', 'b', 'a')\n",
      "('h', 'b', 't')\n",
      "('h', 'b', 'e')\n",
      "('h', 'a', 'b')\n",
      "('h', 'a', 't')\n",
      "('h', 'a', 'e')\n",
      "('h', 't', 'b')\n",
      "('h', 't', 'a')\n",
      "('h', 't', 'e')\n",
      "('h', 'e', 'b')\n",
      "('h', 'e', 'a')\n",
      "('h', 'e', 't')\n",
      "('e', 'b', 'a')\n",
      "('e', 'b', 't')\n",
      "('e', 'b', 'h')\n",
      "('e', 'a', 'b')\n",
      "('e', 'a', 't')\n",
      "('e', 'a', 'h')\n",
      "('e', 't', 'b')\n",
      "('e', 't', 'a')\n",
      "('e', 't', 'h')\n",
      "('e', 'h', 'b')\n",
      "('e', 'h', 'a')\n",
      "('e', 'h', 't')\n"
     ]
    }
   ],
   "source": [
    "import itertools as it\n",
    "word = 'bathe'\n",
    "result = it.permutations(word, 3)\n",
    "for item in result:\n",
    "    print(item)"
   ]
  },
  {
   "cell_type": "code",
   "execution_count": 10,
   "id": "a7b20651",
   "metadata": {},
   "outputs": [],
   "source": [
    "file1 = \"positive-words.txt\"\n",
    "f1 = open(file1, 'r+')\n",
    "positive = f1.read()"
   ]
  },
  {
   "cell_type": "code",
   "execution_count": 11,
   "id": "750f6621",
   "metadata": {},
   "outputs": [],
   "source": [
    "file2 = \"negative-words.txt\"\n",
    "f2 = open(file2, 'r+')\n",
    "negative = f2.read()"
   ]
  },
  {
   "cell_type": "code",
   "execution_count": 47,
   "id": "50227068",
   "metadata": {},
   "outputs": [],
   "source": [
    "tweet = \"i can't stand back and watch this happen to great american city, a total lack of leadership. either the very weak radical left get his act together and bring the city under control or i will send in the national guard & get the job done right\""
   ]
  },
  {
   "cell_type": "code",
   "execution_count": 48,
   "id": "70fa55e1",
   "metadata": {},
   "outputs": [],
   "source": [
    "words= tweet.lower().split()"
   ]
  },
  {
   "cell_type": "code",
   "execution_count": 49,
   "id": "57a993fc",
   "metadata": {},
   "outputs": [
    {
     "name": "stdout",
     "output_type": "stream",
     "text": [
      "This sentence is positive\n"
     ]
    }
   ],
   "source": [
    "# these two lists is not proper for this job\n",
    "positive_words = 0\n",
    "negative_words = 0\n",
    "for word in words:\n",
    "    if word in positive:\n",
    "        positive_words += 1\n",
    "    elif word in negative:\n",
    "        negative_words += 1\n",
    "if positive_words > negative_words:\n",
    "    print('This sentence is positive')\n",
    "elif positive_words < negative_words:\n",
    "    print('This sentence is negative')\n",
    "else:\n",
    "    print('this sentence is neutral')"
   ]
  },
  {
   "cell_type": "markdown",
   "id": "badc92ce",
   "metadata": {},
   "source": [
    "## 8.11 Project: Evaluate Word Problems"
   ]
  },
  {
   "cell_type": "code",
   "execution_count": 18,
   "id": "d4d0f09b",
   "metadata": {},
   "outputs": [],
   "source": [
    "import re\n",
    "def evaluate(string):\n",
    "    numbers = {'zero':0,'one':1, 'two':2, 'three':3, 'four':4, 'five':5, 'six':6, 'seven':7, 'eight':8, 'nine':9}\n",
    "    problem = re.fullmatch(r'([a-z]+) ([a-z]+[\\s]*[a-z]*) ([a-z]+)', string)\n",
    "    if problem:\n",
    "        first_num, operation, second_num = problem.groups()\n",
    "        if operation == 'plus':\n",
    "            result = numbers[first_num] + numbers[second_num]\n",
    "        elif operation == 'minus':\n",
    "            result = numbers[first_num] - numbers[second_num]\n",
    "        elif operation == 'times':\n",
    "            result = numbers[first_num] * numbers[second_num]\n",
    "        elif operation == 'divided by':\n",
    "            result = numbers[first_num] / numbers[second_num]\n",
    "        return result\n",
    "    else:\n",
    "        print('Please enter the problem correct')"
   ]
  },
  {
   "cell_type": "code",
   "execution_count": 23,
   "id": "5ad97a17",
   "metadata": {},
   "outputs": [
    {
     "data": {
      "text/plain": [
       "1.25"
      ]
     },
     "execution_count": 23,
     "metadata": {},
     "output_type": "execute_result"
    }
   ],
   "source": [
    "evaluate('five divided by four')"
   ]
  },
  {
   "cell_type": "markdown",
   "id": "fd149935",
   "metadata": {},
   "source": [
    "## 8.12 Project: Scrambled Text"
   ]
  },
  {
   "cell_type": "code",
   "execution_count": 30,
   "id": "4c4d8a8a",
   "metadata": {},
   "outputs": [],
   "source": [
    "import re\n",
    "import random\n",
    "def cambridge_word(word):\n",
    "    result = re.fullmatch(r'([a-zA-Z])([\\W]*[a-z]*)([a-zA-Z])', word)\n",
    "    if result:\n",
    "        first_letter, middle, last_letter = result.groups()\n",
    "        middle_list = list(middle)\n",
    "        random.shuffle(middle_list)\n",
    "        shuffled_middle = ''.join(middle_list)\n",
    "        return f'{first_letter}{shuffled_middle}{last_letter}'\n",
    "    else:\n",
    "        return word"
   ]
  },
  {
   "cell_type": "code",
   "execution_count": 31,
   "id": "96abe41c",
   "metadata": {},
   "outputs": [
    {
     "data": {
      "text/plain": [
       "'maarym'"
      ]
     },
     "execution_count": 31,
     "metadata": {},
     "output_type": "execute_result"
    }
   ],
   "source": [
    "cambridge('maryam')"
   ]
  },
  {
   "cell_type": "code",
   "execution_count": 35,
   "id": "63158678",
   "metadata": {},
   "outputs": [],
   "source": [
    "def cambridge_sentence(sentence):\n",
    "    words = sentence.split()\n",
    "    sentence = []\n",
    "    for word in words:\n",
    "        sentence.append(cambridge_word(word))\n",
    "    s = ' '.join(sentence)\n",
    "    return s"
   ]
  },
  {
   "cell_type": "code",
   "execution_count": 37,
   "id": "48b72209",
   "metadata": {},
   "outputs": [
    {
     "data": {
      "text/plain": [
       "'mdahi maryam if else caibrgmde'"
      ]
     },
     "execution_count": 37,
     "metadata": {},
     "output_type": "execute_result"
    }
   ],
   "source": [
    "cambridge_sentence('mahdi maryam if else cambridge')"
   ]
  },
  {
   "cell_type": "markdown",
   "id": "a6e3fba0",
   "metadata": {},
   "source": [
    "## 8.13 Regular Expressions: Condense Spaces to a Single Space"
   ]
  },
  {
   "cell_type": "code",
   "execution_count": 38,
   "id": "7dcf2b1a",
   "metadata": {},
   "outputs": [],
   "source": [
    "def no_extra_spaces(sentence):\n",
    "    a = sentence.split()\n",
    "    return ' '.join(a)"
   ]
  },
  {
   "cell_type": "code",
   "execution_count": 42,
   "id": "cf777f5c",
   "metadata": {},
   "outputs": [
    {
     "data": {
      "text/plain": [
       "'Hello World'"
      ]
     },
     "execution_count": 42,
     "metadata": {},
     "output_type": "execute_result"
    }
   ],
   "source": [
    "no_extra_spaces('Hello       World')"
   ]
  },
  {
   "cell_type": "markdown",
   "id": "06b88d59",
   "metadata": {},
   "source": [
    "## 8.14 Regular Expressions: Capturing Substrings"
   ]
  },
  {
   "cell_type": "code",
   "execution_count": 58,
   "id": "6a231795",
   "metadata": {},
   "outputs": [],
   "source": [
    "# for a single word\n",
    "import re\n",
    "def starts_with_b(word):\n",
    "    result = re.fullmatch(r'([a-zA-Z])([a-zA-Z]*)', word)\n",
    "    if result:\n",
    "        first_letter, rest = result.groups()\n",
    "        if first_letter == 'b':\n",
    "            return word"
   ]
  },
  {
   "cell_type": "code",
   "execution_count": 62,
   "id": "20622240",
   "metadata": {},
   "outputs": [],
   "source": [
    "# for a sentence\n",
    "def starts_with_bs_in_sentence(sentence):\n",
    "    words_list = []\n",
    "    words = sentence.split()\n",
    "    for word in words:\n",
    "        words_list.append(starts_with_b(word))\n",
    "    final_list = list(filter(None, words_list))\n",
    "    return ' '.join(final_list)"
   ]
  },
  {
   "cell_type": "code",
   "execution_count": 63,
   "id": "d9796a12",
   "metadata": {},
   "outputs": [
    {
     "data": {
      "text/plain": [
       "'bar bishour'"
      ]
     },
     "execution_count": 63,
     "metadata": {},
     "output_type": "execute_result"
    }
   ],
   "source": [
    "starts_with_bs_in_sentence('bar to ey koskhol bishour salam')"
   ]
  },
  {
   "cell_type": "markdown",
   "id": "3a653888",
   "metadata": {},
   "source": [
    "## 8.15 Regular Expressions: Counting Characters and Words"
   ]
  },
  {
   "cell_type": "code",
   "execution_count": 1,
   "id": "7a00caaf",
   "metadata": {},
   "outputs": [],
   "source": [
    "import re\n",
    "def count_all(sentence):\n",
    "    nl = '\\n'\n",
    "    number_of_digits = len(re.findall(r'\\d', sentence))\n",
    "    number_of_nondigits = len(re.findall(r'\\D', sentence))\n",
    "    number_of_whitespaces = len(re.findall(r'\\s', sentence))\n",
    "    number_of_words = len(sentence.split())\n",
    "    return print(f\"Number of digits = {number_of_digits}\\nNumber of non-digits = {number_of_nondigits}\\nNumber of whitespaces = {number_of_whitespaces}\\nNumber of words = {number_of_words}\")"
   ]
  },
  {
   "cell_type": "code",
   "execution_count": 3,
   "id": "85cc3330",
   "metadata": {},
   "outputs": [
    {
     "name": "stdout",
     "output_type": "stream",
     "text": [
      "Number of digits = 4\n",
      "Number of non-digits = 89\n",
      "Number of whitespaces = 16\n",
      "Number of words = 17\n"
     ]
    }
   ],
   "source": [
    "count_all('In earlier chapters, we used 1234 the + operator to concatenate strings and the * operator to')"
   ]
  },
  {
   "cell_type": "markdown",
   "id": "fec0389c",
   "metadata": {},
   "source": [
    "## 8.16 Regular Expressions: Locating URLs\n",
    "http://www.domain_name.extension, where extension must be two or more characters."
   ]
  },
  {
   "cell_type": "code",
   "execution_count": 21,
   "id": "3e85ec6e",
   "metadata": {},
   "outputs": [],
   "source": [
    "import re\n",
    "def find_URLs(sentence):\n",
    "    result = re.findall(r'(\\w{4}://\\w{3}\\.\\w+.\\w{2,})', sentence)\n",
    "    return result"
   ]
  },
  {
   "cell_type": "code",
   "execution_count": 23,
   "id": "93a46de9",
   "metadata": {},
   "outputs": [
    {
     "data": {
      "text/plain": [
       "['http://www.yahoo27.com']"
      ]
     },
     "execution_count": 23,
     "metadata": {},
     "output_type": "execute_result"
    }
   ],
   "source": [
    "find_URLs('wer wef wef erk wujerfhehoiUHFEIFEhttp://www.yahoo27.com ;loehf oqh oqwd qwd')"
   ]
  },
  {
   "cell_type": "markdown",
   "id": "bd9a72f6",
   "metadata": {},
   "source": [
    "## 8.17 Regular Expressions: Matching Numeric Values"
   ]
  },
  {
   "cell_type": "code",
   "execution_count": 24,
   "id": "f345af8f",
   "metadata": {},
   "outputs": [],
   "source": [
    "a = 'asd  123123 -123.123 123d fg '\n",
    "def find_digits(sentence):\n",
    "    a_list = a.split()\n",
    "    final = []\n",
    "    for word in a_list:\n",
    "        result = re.fullmatch(r'[+-]*[\\d]+[\\.]*[\\d]*', word)\n",
    "        if result:\n",
    "            final.append(word)\n",
    "    return final"
   ]
  },
  {
   "cell_type": "code",
   "execution_count": 25,
   "id": "b145a8fc",
   "metadata": {},
   "outputs": [
    {
     "data": {
      "text/plain": [
       "['123123', '-123.123']"
      ]
     },
     "execution_count": 25,
     "metadata": {},
     "output_type": "execute_result"
    }
   ],
   "source": [
    "find_digits('asd  123123 -123.123 123d fg ')"
   ]
  },
  {
   "cell_type": "markdown",
   "id": "f938438c",
   "metadata": {},
   "source": [
    "## 8.18 Regular Expression: Password Format Validator"
   ]
  },
  {
   "cell_type": "code",
   "execution_count": 26,
   "id": "c1b6116b",
   "metadata": {},
   "outputs": [],
   "source": [
    "# Passwords must contain at least five words, each separated by a hyphen, a space, a period, a comma or an underscore."
   ]
  },
  {
   "cell_type": "code",
   "execution_count": 34,
   "id": "057388d0",
   "metadata": {},
   "outputs": [],
   "source": [
    "import re\n",
    "def sample1(password):\n",
    "    test = re.fullmatch(r'[a-zA-Z0-9]+[-\\s<>,_][a-zA-Z0-9]+[-\\s<>,_][a-zA-Z0-9]+[-\\s<>,_][a-zA-Z0-9]+[-\\s<>,_][a-zA-Z0-9]+', password)\n",
    "    if test:\n",
    "        return 'Correct'\n",
    "    else:\n",
    "        return 'No :('"
   ]
  },
  {
   "cell_type": "code",
   "execution_count": 36,
   "id": "643bd497",
   "metadata": {},
   "outputs": [
    {
     "data": {
      "text/plain": [
       "'Correct'"
      ]
     },
     "execution_count": 36,
     "metadata": {},
     "output_type": "execute_result"
    }
   ],
   "source": [
    "sample1('salam<man mitonam_pass2123 bedam')"
   ]
  },
  {
   "cell_type": "code",
   "execution_count": 27,
   "id": "8b7a48e7",
   "metadata": {},
   "outputs": [],
   "source": [
    "#  Passwords must have a minimum of 8 characters and contain at least one each from uppercase characters, lowercase characters, digits and punctuation characters (such as characters in '!@#$%<^>&*?')."
   ]
  },
  {
   "cell_type": "code",
   "execution_count": 44,
   "id": "e8969a12",
   "metadata": {},
   "outputs": [],
   "source": [
    "sample = 'asd asd AWed a'\n",
    "import re\n",
    "def sample2(password):\n",
    "    status = 'Invalid'\n",
    "    password_charactors = list(password)\n",
    "    uppercase = []\n",
    "    lowercase = []\n",
    "    digit = []\n",
    "    punctuation = ['!', '@', '#', '$', '%', '<', '^', '>', '&', '*', '?']\n",
    "    punctuation_list = []\n",
    "    for charactor in password_charactors:\n",
    "        if charactor.isupper():\n",
    "            uppercase.append(charactor)\n",
    "        elif charactor.islower():\n",
    "            lowercase.append(charactor)\n",
    "        elif charactor.isdigit():\n",
    "            digit.append(charactor)\n",
    "        elif charactor in punctuation:\n",
    "            punctuation_list.append(charactor)\n",
    "    if len(password_charactors) >= 8:\n",
    "        if len(uppercase) >0:\n",
    "            if len(lowercase) > 0:\n",
    "                if len(digit) > 0:\n",
    "                    if len(punctuation_list) > 0:\n",
    "                        status = 'Valid'\n",
    "    if len(password_charactors) < 8:\n",
    "        print('Your password must be at least 8 charactors')\n",
    "    if len(uppercase) == 0:\n",
    "        print('Your password must have at least one uppercase charactor')\n",
    "    if len(lowercase) == 0:\n",
    "        print('your password must have at least one lowercase charactor')\n",
    "    if len(digit) == 0:\n",
    "        print('your password must have at least one digital charactor')\n",
    "    if len(punctuation_list) == 0:\n",
    "        print('your password must have at least one punctuation charactor')\n",
    "    return f'Password is {status}'"
   ]
  },
  {
   "cell_type": "code",
   "execution_count": 45,
   "id": "6791efe6",
   "metadata": {},
   "outputs": [
    {
     "name": "stdout",
     "output_type": "stream",
     "text": [
      "Your password must be at least 8 charactors\n",
      "your password must have at least one punctuation charactor\n"
     ]
    },
    {
     "data": {
      "text/plain": [
       "'Password is Invalid'"
      ]
     },
     "execution_count": 45,
     "metadata": {},
     "output_type": "execute_result"
    }
   ],
   "source": [
    "sample2('abvWf2t')"
   ]
  },
  {
   "cell_type": "markdown",
   "id": "35924fd0",
   "metadata": {},
   "source": [
    "## 8.19 Regular Expressions: Testing Regular Expressions Online"
   ]
  },
  {
   "cell_type": "code",
   "execution_count": 1,
   "id": "48946eef",
   "metadata": {},
   "outputs": [],
   "source": [
    "# Done\n",
    "# www.regex101.com"
   ]
  },
  {
   "cell_type": "markdown",
   "id": "0dc36572",
   "metadata": {},
   "source": [
    "## 8.20 Regular Expressions: Munging Dates\n",
    "##### format one :  042555\n",
    "##### format two :  04/25/1955\n",
    "##### format three :  April 25, 1955"
   ]
  },
  {
   "cell_type": "code",
   "execution_count": 2,
   "id": "c9a1c4f3",
   "metadata": {},
   "outputs": [],
   "source": [
    "# Mungs format one to two and three\n",
    "import re\n",
    "def format_one(string):\n",
    "    months_nums = {'01':'January', '02':'February', '03':'March', '04':'April', '05': 'May', '06': 'June', '07':'July', '08': 'August', '09': 'September', '10':'October', '11':'November', '12': 'December'}\n",
    "    results = re.findall(r'[012]+[0-9]+[0123]+[0-9]+[0-9]{2}', string)\n",
    "    for item in results:\n",
    "        date = re.fullmatch(r'(\\d{2})(\\d{2})(\\d{2})', item)\n",
    "        if date:\n",
    "            month, day, year = date.groups()\n",
    "            proper_month = months_nums[month]\n",
    "            print(f'{month}/{day}/19{year}')\n",
    "            print(f'{proper_month} {day}, 19{year}')"
   ]
  },
  {
   "cell_type": "code",
   "execution_count": 3,
   "id": "fb1dd481",
   "metadata": {},
   "outputs": [
    {
     "name": "stdout",
     "output_type": "stream",
     "text": [
      "04/25/1955\n",
      "April 25, 1955\n"
     ]
    }
   ],
   "source": [
    "format_one('1234@mahdik042555argare04/25/1955ase  asdaApril 25, 1955sddqw')"
   ]
  },
  {
   "cell_type": "code",
   "execution_count": 4,
   "id": "c3d370e2",
   "metadata": {},
   "outputs": [],
   "source": [
    "# Mungs format two to one and three\n",
    "import re\n",
    "def format_two(string):\n",
    "    months_nums = {'01':'January', '02':'February', '03':'March', '04':'April', '05': 'May', '06': 'June', '07':'July', '08': 'August', '09': 'September', '10':'October', '11':'November', '12': 'December'}\n",
    "    results = re.findall(r'[012]+[0-9]+/[0123]+[0-9]+/\\d{4}', string)\n",
    "    for item in results:\n",
    "        date = re.fullmatch(r'([012]+[0-9]+)/([0123]+[0-9]+)/(\\d{4})', item)\n",
    "        if date:\n",
    "            month, day, year = date.groups()\n",
    "            proper_month = months_nums[month]\n",
    "            proper_year = year[-2:]\n",
    "            print(f'{month}{day}{proper_year}')\n",
    "            print(f'{proper_month} {day}, {year}')"
   ]
  },
  {
   "cell_type": "code",
   "execution_count": 5,
   "id": "8faa696c",
   "metadata": {},
   "outputs": [
    {
     "name": "stdout",
     "output_type": "stream",
     "text": [
      "042555\n",
      "April 25, 1955\n"
     ]
    }
   ],
   "source": [
    "format_two('1234@mahdik042555argare04/25/1955ase  asdaApril 25, 1955sddqw')"
   ]
  },
  {
   "cell_type": "code",
   "execution_count": 6,
   "id": "4de4c18f",
   "metadata": {},
   "outputs": [],
   "source": [
    "# # Mungs format three to one and two\n",
    "import re\n",
    "def format_three(string):\n",
    "    months_dict = {'January':'01', 'February': '02', 'March':'03', 'April':'04', 'May':'05', 'June':'06', 'July':'07', 'August': '08', 'September':'09','October':'10', 'November':'11', 'December':'12'}\n",
    "    results = re.findall(r'[A-Z][a-z]{2,8}\\s{1}[0123]+[0-9]+,\\s{1}\\d{4}', string)\n",
    "    for item in results:\n",
    "        date = re.fullmatch(r'([A-Z][a-z]{2,8})\\s{1}([0123]+[0-9]+),\\s(\\d{4})', item)\n",
    "        if date:\n",
    "            month, day, year = date.groups()\n",
    "            proper_month = months_dict[month]\n",
    "            proper_year = year[-2:]\n",
    "            print(f'{proper_month}{day}{proper_year}')\n",
    "            print(f'{proper_month}/{day}/{year}')"
   ]
  },
  {
   "cell_type": "code",
   "execution_count": 7,
   "id": "5b995527",
   "metadata": {},
   "outputs": [
    {
     "name": "stdout",
     "output_type": "stream",
     "text": [
      "061155\n",
      "06/11/1955\n"
     ]
    }
   ],
   "source": [
    "format_three('1234@mahdik042555argare04/25/1955ase  asdaJune 11, 1955sddqw')"
   ]
  },
  {
   "cell_type": "code",
   "execution_count": 10,
   "id": "24121c57",
   "metadata": {},
   "outputs": [],
   "source": [
    "import re\n",
    "def mung_all(string):\n",
    "    total_list = []\n",
    "    total_list.append(format_one(string))\n",
    "    total_list.append(format_two(string))\n",
    "    total_list.append(format_three(string))\n",
    "    final = filter(None, total_list)\n",
    "    for i in final:\n",
    "        print(i,end='')"
   ]
  },
  {
   "cell_type": "code",
   "execution_count": 11,
   "id": "0cfd0aff",
   "metadata": {},
   "outputs": [
    {
     "name": "stdout",
     "output_type": "stream",
     "text": [
      "04/25/1955\n",
      "April 25, 1955\n",
      "042555\n",
      "April 25, 1955\n",
      "061155\n",
      "06/11/1955\n"
     ]
    }
   ],
   "source": [
    "mung_all('1234@mahdik042555argare04/25/1955ase  asdaJune 11, 1955sddqw')"
   ]
  },
  {
   "cell_type": "markdown",
   "id": "10d1c9e4",
   "metadata": {},
   "source": [
    "## 8.21 Project: Metric Conversions"
   ]
  },
  {
   "cell_type": "code",
   "execution_count": 5,
   "id": "a48101ae",
   "metadata": {},
   "outputs": [
    {
     "name": "stdout",
     "output_type": "stream",
     "text": [
      "please enter the problem in this format: How many (wanted value) are in (value) (given value)?How many meters are in 2 kilometers?\n",
      "2000.00 meters are in 2.0 kilometers\n"
     ]
    }
   ],
   "source": [
    "import re\n",
    "sentence = str(input('please enter the problem in this format: How many (wanted value) are in (value) (given value)?'))\n",
    "length = ['meters', 'centimeters', 'kilometers', 'millimeters', 'miles', 'yards', 'foots', 'inches']\n",
    "mass = ['tons', 'kilograms', 'grams', 'stones', 'pounds', 'ounces']\n",
    "volume = ['liters', 'milliliters', 'gallons', 'cubic feets', 'cubic inches', 'cubic meters']\n",
    "values = {'liters': 1, 'milliliters':0.001, 'gallons': 4.54609, 'cubic feet': 28.3168, 'cubic inches': 0.0163870370367249, 'cubic meters': 1000, 'meters':1, 'centimeters': 0.01, 'kilometers':1000, 'millimeters':0.001, 'mile':1609.34, 'yard': 0.9143977272588, 'foot': 0.30479924241959999165, 'inches': 0.025399936868299999304, 'tons': 1000, 'kilograms':1, 'grams': 0.001, 'stones':6.35029, 'pounds': 0.453592142840941, 'ounces': 0.028349508927558813437}\n",
    "given_value = str\n",
    "wanted_value = str\n",
    "problem = re.fullmatch(r'How many (\\w+) are in (\\d+) (\\w+).', sentence)\n",
    "if problem:\n",
    "    wanted, value, given  = problem.groups()\n",
    "    if given in length:\n",
    "        given_type = 'length'\n",
    "    if wanted in length:\n",
    "        wanted_type = 'length'\n",
    "    if given in mass:\n",
    "        given_type = 'mass'\n",
    "    if wanted in mass:\n",
    "        wanted_type = 'mass'\n",
    "    if given in volume:\n",
    "        given_type = 'volume'\n",
    "    if wanted in volume:\n",
    "        wanted_type = 'volume'\n",
    "    if wanted_type != given_type:\n",
    "        print('conversion not available')\n",
    "    else:\n",
    "        value = float(value)\n",
    "        wanted_value = values[wanted]\n",
    "        given_value = values[given]\n",
    "        result = value * given_value / wanted_value\n",
    "        print(f'{result:.2f} {wanted} are in {value} {given}')\n",
    "else:\n",
    "    print('please enter the string properly')"
   ]
  },
  {
   "cell_type": "markdown",
   "id": "0b0fb463",
   "metadata": {},
   "source": [
    "## 8.22 Project: Cooking with Healthier Ingredients"
   ]
  },
  {
   "cell_type": "code",
   "execution_count": 48,
   "id": "6ae32aa6",
   "metadata": {},
   "outputs": [],
   "source": [
    "email = \"\"\"\n",
    "Reminder-IGS TCB Webinar (June2022): Modeling tensile strains and the impacts of seams, patches, and scratches on geomembrane integrity\n",
    "Spam\n",
    "Amir Shahkolahi amir@globalsynthetics.com.au via gmail.mcsv.net \n",
    "3 Jun 2022, 05:29\n",
    "to me\n",
    "\n",
    "Be careful with this message\n",
    "Gmail could not verify that it actually came from globalsynthetics.com.au. Avoid clicking links, downloading attachments or replying with personal information.\n",
    "\n",
    "Looks safe\n",
    "Reminder\n",
    "IGS TCB Webinar - June 2022:\n",
    "Modeling tensile strains and the impacts of seams, patches, and scratches on geomembrane integrity\n",
    "\n",
    "Dear Mahdi,\n",
    "\n",
    "This is a kindly reminder for the coming IGS TC-B webinar in June 2022 with the title of \"Modeling deal strains and the impacts of seams, patches, link and scratches on geomembrane integrity\" presented by Prof. Edward Kavazanjian.\n",
    "\n",
    "The webinar is organised by International Goesynthetic Soceity (IGS) Technical Committee on Barrier Systems (TC-B).\n",
    "\n",
    "When:\n",
    "\n",
    "Time zone 1: 15 June 2022, 11am AEST / 15 June 2022, 3am CEST / 15 June 2022, 1am UTC / 14 June 2022, 9pm EDT:\n",
    "https://us06web.zoom.us/webinar/register/WN_MTRQPjOZTXSzGcRz2kF4Gg\n",
    " \n",
    "Time Zone 2: 21 June 2022, 9pm AEST / 21 June 2022, 1pm CEST / 21 June 2022, 11am UTC / 21 June 2022, 7am EDT:\n",
    "https://us06web.zoom.us/webinar/register/WN_N6YWlqoNQgSBoE0-wjP03Q\n",
    "\n",
    "About the deal:\n",
    "Excessive tensile strains present a significant threat to geomembrane integrity. Advanced numerical models enable a design engineer to explicitly model waste-liner system interaction in order to calculate the nominal tensile strains in high-density polyethylene (HDPE) geomembrane liners subject to static and seismic loads. However, strain concentrations due to seams and scratches perpendicular to the induced tensile strain in the geomembrane can amplify the nominal tensile strain by a factor of 4 or more. Closed-form solutions must be used to incorporate these strain concentrations into the performance assessment. \n",
    "\n",
    "Analysis of the performance crypto of landfills where tears were observed in the geomembrane liner following an earthquake illustrates the importance of considering tensile strain concentrations in evaluating liner system performance. The closed form factors used to evaluate these strain concentrations were validated experimentally using uniaxial wide-width tensile testing and digital image correlation. The potential for long-term development of tensile strains in HDPE geomembrane liners in landfills was investigated via numerical analysis using a new constitutive model for municipal solid waste (MSW) that incorporates both mechanical creep and biodegradation. The influence of the friction angle of the liner system interfaces, the biodegradation of MSW, and the MSW filling rate on nominal tensile strains were investigated using this model. Results of these analyses provide insight on measures that can be taken to mitigate tensile strain development in geomembrane liner systems for landfills.\n",
    "\n",
    "About the speaker:\n",
    "Edward Kavazanjian is a Regents Professor and the Ira A. Fulton Professor of Geotechnical Engineering in the School of Sustainable Engineering and the Built Environment in the Ira A. Fulton Schools of Engineering at Arizona State University. Professor Kavazanjian’s expertise includes geotechnical engineering for civil infrastructure systems, design and construction of waste containment systems, geotechnical earthquake engineering, the mechanical properties of solid waste, and the emerging field of biogeotechnical engineering.  He is recipient of the 2009 Ralph B. Peck Award, 2010 Thomas A. Middlebrooks Award, and the 2011 Terzaghi Award from the American Society of Civil Engineers (ASCE).  In 2013, he was elected to the National Academy of Engineering for his work on landfills and geotechnical earthquake engineering.  In August 2015, he became Director of the Center for Bio-mediated and Bio-inspired Geotechnics (CBBG), a National Science Foundation-funded Gen-3 Engineering Research Center dedicated to the emerging sub-discipline of biogeotechnical engineering. In 2018, he was elected a Distinguished Member of ASCE and is past-president of the ASCE Geo-Institute and the US University Council for Geotechnical Education and Research (USUCGER).\n",
    "\n",
    "Please visit IGS website or click below to register for your preferred time zone:\n",
    "Registration here for Time zone 1 (15 June 2022, 11am AEST / 15 June 2022, 3am CEST / 15 June 2022, 1am UTC / 14 June 2022, 9pm EDT)\n",
    "Registration here for Time Zone 2 (21 June 2022, 9pm AEST / 21 June 2022, 1pm CEST / 21 June 2022, 11am UTC / 21 June 2022, 7am EDT)\n",
    ".\"\"\""
   ]
  },
  {
   "cell_type": "code",
   "execution_count": 49,
   "id": "1279f2c3",
   "metadata": {},
   "outputs": [
    {
     "name": "stdout",
     "output_type": "stream",
     "text": [
      "This email is probably a spam email\n"
     ]
    }
   ],
   "source": [
    "spam_list = ['price','100%','register', 'exclusive','!!!' ,'congratulations','deal', 'double','apply','now', 'cash','gift','free', 'cheap', 'debt', 'click', 'link', 'crypto','order' ,'winner', 'affordable','instant','freedom','solution' ,'lifetime' , 'money','cost' ,'fees', 'income', 'easy', 'order', 'shipped','mortgage', 'limited']\n",
    "spam_rate = 0\n",
    "spam_words = []\n",
    "for word in email.split():\n",
    "    if word.lower() in spam_list:\n",
    "        spam_rate += 1\n",
    "        spam_words.append(word)\n",
    "if spam_rate > 4:\n",
    "    print('This email is probably a spam email')\n",
    "else:\n",
    "    print('I dont think this is a spam email')"
   ]
  },
  {
   "cell_type": "code",
   "execution_count": 50,
   "id": "4839f0ee",
   "metadata": {},
   "outputs": [
    {
     "data": {
      "text/plain": [
       "['deal', 'link', 'order', 'crypto', 'click', 'register']"
      ]
     },
     "execution_count": 50,
     "metadata": {},
     "output_type": "execute_result"
    }
   ],
   "source": [
    "spam_words"
   ]
  },
  {
   "cell_type": "markdown",
   "id": "6ade385a",
   "metadata": {},
   "source": [
    "## 8.24 Research: Inter-Language Translation"
   ]
  },
  {
   "cell_type": "markdown",
   "id": "91cb6e62",
   "metadata": {},
   "source": [
    "from 'برای امنیت بیشتر، آهسته برانید' to 'منتظر امنیت بیشتر باشید'\n",
    "from 'do good to your parents' to 'please help your parents'"
   ]
  },
  {
   "cell_type": "markdown",
   "id": "2633285c",
   "metadata": {},
   "source": [
    "## 8.25 Project: State of the Union Speeches"
   ]
  },
  {
   "cell_type": "code",
   "execution_count": 2,
   "id": "d0762ede",
   "metadata": {},
   "outputs": [],
   "source": [
    "trump_2020 = \"\"\"Thank you very much. Thank you. Thank you very much.\\n\\nMadam Speaker, Mr. Vice President, members of Congress, the first lady of the United States — (applause) — and my fellow citizens:\\n\\nThree years ago, we launched the great American comeback. Tonight, I stand before you to share the incredible results. Jobs are booming, incomes are soaring, poverty is plummeting, crime is falling, confidence is surging, and our country is thriving and highly respected again. () America’s enemies are on the run, America’s fortunes are on the rise, and America’s future is blazing bright.The years of economic decay are over. () The days of our country being used, taken advantage of, and even scorned by other nations are long behind us. () Gone, too, are the broken promises, jobless recoveries, tired platitudes and constant excuses for the depletion of American wealth, power and prestige.\\n\\nIn just three short years, we have shattered the mentality of American decline, and we have rejected the downsizing of America’s destiny. We have totally rejected the downsizing. We are moving forward at a pace that was unimaginable just a short time ago, and we are never, ever going back. ()\\n\\nI am thrilled to report to you tonight that our economy is the best it has ever been. Our military is completely rebuilt, with its power being unmatched anywhere in the world — and it’s not even close. Our borders are secure. Our families are flourishing. Our values are renewed. Our pride is restored. And for all of these reasons, I say to the people of our great country and to the members of Congress: The state of our Union is stronger than ever before. ()\\nThe vision I will lay out this evening demonstrates how we are building the world’s most prosperous and inclusive society — one where every citizen can join in America’s unparalleled success and where every community can take part in America’s extraordinary rise.\\n\\nFrom the instant I took office, I moved rapidly to revive the U.S. economy — slashing a record number of job-killing regulations, enacting historic and record-setting tax cuts, and fighting for fair and reciprocal trade agreements. () Our agenda is relentlessly pro-worker, pro-family, pro-growth, and, most of all, pro-American. () Thank you. We are advancing with unbridled optimism and lifting our citizens of every race, color, religion and creed very, very high.\\nSince my election, we have created seven million new jobs — five million more than government experts projected during the previous administration. ()\\n\\nThe unemployment rate is the lowest in over half a century. () And very incredibly, the average unemployment rate under my administration is lower than any administration in the history of our country. () True. If we hadn’t reversed the failed economic policies of the previous administration, the world would not now be witnessing this great economic success. ()\\n\\nThe unemployment rate for African-Americans, Hispanic Americans and Asian-Americans has reached the lowest levels in history. () African-American youth unemployment has reached an all-time low. () African-American poverty has declined to the lowest rate ever recorded. ()\\n\\nThe unemployment rate for women reached the lowest level in almost 70 years. And, last year, women filled 72 percent of all new jobs added. ()\\n\\nThe veterans unemployment rate dropped to a record low. () The unemployment rate for disabled Americans has reached an all-time low. ()\\n\\nWorkers without a high school diploma have achieved the lowest unemployment rate recorded in U.S. history. () A record number of young Americans are now employed. ()\\n\\nUnder the last administration, more than 10 million people were added to the food stamp rolls. Under my administration, seven million Americans have come off food stamps, and 10 million people have been lifted off of welfare. ()\\nIn eight years under the last administration, over 300,000 working-age people dropped out of the work force. In just three years of my administration, 3.5 million people — working-age people — have joined the work force. ()\\n\\nSince my election, the net worth of the bottom half of wage earners has increased by 47 percent — three times faster than the increase for the top 1 percent. () After decades of flat and falling incomes, wages are rising fast — and, wonderfully, they are rising fastest for low-income workers, who have seen a 16 percent pay increase since my election. () This is a blue-collar boom. ()\\n\\nReal median household income is now at the highest level ever recorded. ()\\n\\nSince my election, U.S. stock markets have soared 70 percent, adding more than $12 trillion to our nation’s wealth, transcending anything anyone believed was possible. This is a record. It is something that every country in the world is looking up to. They admire. () Consumer confidence has just reached amazing new highs.\\n\\nAll of those millions of people with 401(k)s and pensions are doing far better than they have ever done before with increases of 60, 70, 80, 90 and 100 percent, and even more.\\n\\nJobs and investments are pouring into 9,000 previously neglected neighborhoods thanks to Opportunity zones, a plan spearheaded by Senator Tim Scott as part of our great Republican tax cuts. () In other words, wealthy people and companies are pouring money into poor neighborhoods or areas that haven’t seen investment in many decades, creating jobs, energy, and excitement. () This is the first time that these deserving communities have seen anything like this. It’s all working.\\n\\nOpportunity zones are helping Americans like Army veteran Tony Rankins from Cincinnati, Ohio. After struggling with drug addiction, Tony lost his job, his house and his family. He was homeless. But then Tony found a construction company that invests in opportunity zones. He is now a top tradesman, drug-free, reunited with his family, and he is here tonight. Tony, keep up the great work. Tony. () Thank you, Tony.\\n\\nOur roaring economy has, for the first time ever, given many former prisoners the ability to get a great job and a fresh start. This second chance at life is made possible because we passed landmark criminal justice reform into law. Everybody said that criminal justice reform couldn’t be done, but I got it done, and the people in this room got it done. ()\\nThanks to our bold regulatory reduction campaign, the United States has become the No. 1 producer of oil and natural gas anywhere in the world, by far. () With the tremendous progress we have made over the past three years, America is now energy independent, and energy jobs, like so many other elements of our country, are at a record high. () We are doing numbers that no one would have thought possible just three years ago.\\n\\nLikewise, we are restoring our nation’s manufacturing might, even though predictions were, as you all know, that this could never, ever be done. After losing 60,000 factories under the previous two administrations, America has now gained 12,000 new factories under my administration, with thousands upon thousands of plants and factories being planned or being built. () Companies are not leaving; they are coming back to the U.S.A. () The fact is that everybody wants to be where the action is, and the United States of America is indeed the place where the action is. ()\\n\\nOne of the biggest promises I made to the American people was to replace the disastrous NAFTA trade deal. () In fact, unfair trade is perhaps the single biggest reason that I decided to run for President. Following NAFTA’s adoption, our nation lost one in four manufacturing jobs. Many politicians came and went, pledging to change or replace NAFTA, only to do so, and then absolutely nothing happened. But unlike so many who came before me, I keep my promises. We did our job. ()\\n\\nSix days ago, I replaced NAFTA and signed the brand-new U.S.-Mexico-Canada Agreement into law. The U.S.M.C.A. will create nearly 100,000 new high-paying American auto jobs, and massively boost exports for our farmers, ranchers, and factory workers. () It will also bring trade with Mexico and Canada to a much higher level, but also to be a much greater degree of fairness and reciprocity. We will have that: fairness and reciprocity. And I say that, finally, because it’s been many, many years that we were treated fairly on trade. ()\\n\\nThis is the first major trade deal in many years to earn the strong backing of America’s labor unions. ()\\n\\nI also promised our citizens that I would impose tariffs to confront China’s massive theft of America’s jobs. Our strategy has worked. Days ago, we signed the groundbreaking new agreement with China that will defend our workers, protect our intellectual property, bring billions and billions of dollars into our treasury, and open vast new markets for products made and grown right here in the U.S.A. ()\\n\\nFor decades, China has taken advantage of the United States. Now we have changed that, but, at the same time, we have perhaps the best relationship we’ve ever had with China, including with President Xi. They respect what we’ve done because, quite frankly, they could never really believe that they were able to get away with what they were doing year after year, decade after decade, without someone in our country stepping up and saying, “That’s enough.” () Now we want to rebuild our country, and that’s exactly what we’re doing. We are rebuilding our country.\\nAs we restore — (applause) — American leadership throughout the world, we are once again standing up for freedom in our hemisphere. () That’s why my administration reversed the failing policies of the previous administration on Cuba. ()\\n\\nWe are supporting the hopes of Cubans, Nicaraguans, and Venezuelans to restore democracy. The United States is leading a 59-nation diplomatic coalition against the socialist dictator of Venezuela, Nicolás Maduro. () Maduro is an illegitimate ruler, a tyrant who brutalizes his people. But Maduro’s grip on tyranny will be smashed and broken.\\n\\nHere this evening is a very brave man who carries with him the hopes, dreams, and aspirations of all Venezuelans. Joining us in the gallery is the true and legitimate president of Venezuela, Juan Guaidó. () Mr. President, please take this message back to your homeland. () Thank you, Mr. President. Great honor. Thank you very much.\\n\\nPlease take this message back that all Americans are united with the Venezuelan people in their righteous struggle for freedom. Thank you very much, Mr. President. () Thank you very much.\\n\\nSocialism destroys nations. But always remember: Freedom unifies the soul. ()\\n\\nTo safeguard American liberty, we have invested a record-breaking $2.2 trillion in the United States military. () We have purchased the finest planes, missiles, rockets, ships and every other form of military equipment, and it’s all made right here in the USA. ()\\n\\nWe are also getting our allies, finally, to help pay their fair share. () I have raised contributions from the other NATO members by more than $400 billion, and the number of Allies meeting their minimum obligations has more than doubled.\\n\\nAnd just weeks ago, for the first time since President Truman established the Air Force more than 70 years earlier, we created a brand-new branch of the United States Armed Forces. It’s called the Space Force. () Very important.\\nIn the gallery tonight, we have a young gentleman. And what he wants so badly — 13 years old — Iain Lanphier. He’s an eighth grader from Arizona. Iain, please stand up.\\n\\nIain has always dreamed of going to space. He was the first in his class and among the youngest at an aviation academy. He aspires to go to the Air Force Academy, and then he has his eye on the Space Force. As Iain says, “Most people look up at space. I want to look down on the world.” (Laughter and applause.)\\n\\nBut sitting behind Iain tonight is his greatest hero of them all. Charles McGee was born in Cleveland, Ohio, one century ago. Charles is one of the last surviving Tuskegee Airmen — the first black fighter pilots — and he also happens to be Iain’s great-grandfather. () Incredible story.\\n\\nAfter more than 130 combat missions in World War II, he came back home to a country still struggling for civil rights and went on to serve America in Korea and Vietnam. On Dec. 7th, Charles celebrated his 100th birthday. () A few weeks ago, I signed a bill promoting Charles McGee to Brigadier General. And earlier today, I pinned the stars on his shoulders in the Oval Office. General McGee, our nation salutes you. Thank you, sir. ()\\n\\nFrom the pilgrims to the Founders, from the soldiers at Valley Forge to the marchers at Selma, and from President Lincoln to the Rev. Martin Luther King, Americans have always rejected limits on our children’s future.\\n\\nMembers of Congress, we must never forget that the only victories that matter in Washington are victories that deliver for the American people. () The people are the heart of our country, their dreams are the soul of our country, and their love is what powers and sustains our country. We must always remember that our job is to put America first. ()\\n\\nThe next step forward in building an inclusive society is making sure that every young American gets a great education and the opportunity to achieve the American Dream. Yet, for too long, countless American children have been trapped in failing government schools. To rescue these students, 18 states have created school choice in the form of Opportunity Scholarships. The programs are so popular that tens of thousands of students remain on a waiting list.\\nOne of those students is Janiyah Davis, a fourth grader from Philadelphia. Janiyah. () Janiyah’s mom, Stephanie, is a single parent. She would do anything to give her daughter a better future. But last year, that future was put further out of reach when Pennsylvania’s governor vetoed legislation to expand school choice to 50,000 children.\\n\\nJaniyah and Stephanie are in the gallery. Stephanie, thank you so much for being here with your beautiful daughter. Thank you very much. ()\\n\\nBut, Janiyah, I have some good news for you, because I am pleased to inform you that your long wait is over. I can proudly announce tonight that an Opportunity Scholarship has become available, it’s going to you, and you will soon be heading to the school of your choice. ()\\n\\nNow I call on Congress to give one million American children the same opportunity Janiyah has just received. Pass the Education Freedom Scholarships and Opportunities Act — because no parent should be forced to send their child to a failing government school. ()\\n\\nEvery young person should have a safe and secure environment in which to learn and to grow. For this reason, our magnificent first lady has launched the Be Best initiative to advance a safe, healthy, supportive and drug-free life for the next generation — online, in school and in our communities. Thank you, Melania, for your extraordinary love and profound care for America’s children. Thank you very much. ()\\n\\nMy administration is determined to give our citizens the opportunities they need regardless of age or background. Through our Pledge to American Workers, over 400 companies will also provide new jobs and education opportunities to almost 15 million Americans.\\n\\nMy budget also contains an exciting vision for our nation’s high schools. Tonight, I ask Congress to support our students and back my plan to offer vocational and technical education in every single high school in America. ()\\nTo expand equal opportunity, I am also proud that we achieved record and permanent funding for our nation’s historically black colleges and universities. ()\\n\\nA good life for American families also requires the most affordable, innovative, and high-quality health care system on Earth. Before I took office, health insurance premiums had more than doubled in just five years. I moved quickly to provide affordable alternatives. Our new plans are up to 60 percent less expensive — and better. ()\\n\\nI’ve also made an ironclad pledge to American families: We will always protect patients with pre-existing conditions. (. And we will always protect your Medicare and we will always protect your Social Security. Always. ()\\n\\nThe American patient should never be blindsided by medical bills. That is why I signed an executive order requiring price transparency. () Many experts believe that transparency, which will go into full effect at the beginning of next year, will be even bigger than health care reform. () It will save families massive amounts of money for substantially better care.\\n\\nBut as we work to improve Americans’ health care, there are those who want to take away your health care, take away your doctor, and abolish private insurance entirely.\\n\\nAUDIENCE: Booo —\\n\\nTHE PRESIDENT: One hundred thirty-two lawmakers in this room have endorsed legislation to impose a socialist takeover of our health care system, wiping out the private health insurance plans of 180 million very happy Americans. To those watching at home tonight, I want you to know: We will never let socialism destroy American health care. ()\\n\\nOver 130 legislators in this chamber have endorsed legislation that would bankrupt our nation by providing free taxpayer-funded health care to millions of illegal aliens, forcing taxpayers to subsidize free care for anyone in the world who unlawfully crosses our borders. These proposals would raid the Medicare benefits of our seniors and that our seniors depend on, while acting as a powerful lure for illegal immigration. That is what is happening in California and other states. Their systems are totally out of control, costing taxpayers vast and unaffordable amounts of money.\\nIf forcing American taxpayers to provide unlimited free health care to illegal aliens sounds fair to you, then stand with the radical left. But if you believe that we should defend American patients and American seniors, then stand with me and pass legislation to prohibit free government health care for illegal aliens. ()\\n\\nThis will be a tremendous boon to our already very strongly guarded southern border where, as we speak, a long, tall and very powerful wall is being built. () We have now completed over 100 miles and have over 500 miles fully completed in a very short period of time. Early next year, we will have substantially more than 500 miles completed.\\n\\nMy administration is also taking on the big pharmaceutical companies. We have approved a record number of affordable generic drugs, and medicines are being approved by the F.D.A. at a faster clip than ever before. () And I was pleased to announce last year that, for the first time in 51 years, the cost of prescription drugs actually went down. ()\\n\\nAnd working together, Congress can reduce drug prices substantially from current levels. I’ve been speaking to Senator Chuck Grassley of Iowa and others in Congress in order to get something on drug pricing done, and done quickly and properly. I’m calling for bipartisan legislation that achieves the goal of dramatically lowering prescription drug prices. Get a bill on my desk, and I will sign it into law immediately. ()\\n\\nAUDIENCE: H.R.3! H.R.3! H.R.3!\\n\\nWith unyielding commitment, we are curbing the opioid epidemic. Drug overdose deaths declined for the first time in nearly 30 years. () Among the states hardest hit, Ohio is down 22 percent, Pennsylvania is down 18 percent, Wisconsin is down 10 percent — and we will not quit until we have beaten the opioid epidemic once and for all. ()\\n\\nProtecting Americans’ health also means fighting infectious diseases. We are coordinating with the Chinese government and working closely together on the coronavirus outbreak in China. My administration will take all necessary steps to safeguard our citizens from this threat.\\n\\nWe have launched ambitious new initiatives to substantially improve care for Americans with kidney disease, Alzheimer’s, and those struggling with mental health. And because Congress was so good as to fund my request, new cures for childhood cancer, and we will eradicate the AIDS epidemic in America by the end of this decade. ()\\nAlmost every American family knows the pain when a loved one is diagnosed with a serious illness. Here tonight is a special man, beloved by millions of Americans who just received a Stage 4 advanced cancer diagnosis. This is not good news, but what is good news is that he is the greatest fighter and winner that you will ever meet. Rush Limbaugh, thank you for your decades of tireless devotion to our country. ()\\n\\nAnd, Rush, in recognition of all that you have done for our nation, the millions of people a day that you speak to and that you inspire, and all of the incredible work that you have done for charity, I am proud to announce tonight that you will be receiving our country’s highest civilian honor, the Presidential Medal of Freedom. ()\\n\\nI will now ask the first lady of the United States to present you with the honor. Please. ()\\n\\n(The Medal of Freedom is presented.) ()\\n\\nRush and Kathryn, congratulations. Thank you, Kathryn.\\n\\nAs we pray for all who are sick, we know that America is constantly achieving new medical breakthroughs. In 2017, doctors at St. Luke’s Hospital in Kansas City delivered one of the earliest premature babies ever to survive. Born at just 21 weeks and 6 days, and weighing less than a pound, Ellie Schneider was a born fighter. Through the skill of her doctors and the prayers of her parents, little Ellie kept on winning the battle of life. Today, Ellie is a strong, healthy two-year-old girl sitting with her amazing mother Robin in the Gallery. Ellie and Robin, we are glad to have you with us tonight. ()\\n\\nEllie reminds us that every child is a miracle of life. And thanks to modern medical wonders, 50 percent of very premature babies delivered at the hospital where Ellie was born now survive. It’s an incredible thing. Thank you very much. ()\\n\\nOur goal should be to ensure that every baby has the best chance to thrive and grow just like Ellie. That is why I’m asking Congress to provide an additional $50 million to fund neonatal research for America’s youngest patients. ()\\nThat is why I’m also calling upon members of Congress here tonight to pass legislation finally banning the late-term abortion of babies. () Whether we are Republican, Democrat, or independent, surely we must all agree that every human life is a sacred gift from God.\\n\\nAs we support America’s moms and dads, I was recently proud to sign the law providing new parents in the federal work force paid family leave, serving as a model for the rest of the country. ()\\n\\nNow I call on the Congress to pass the bipartisan Advancing Support for Working Families Act, extending family leave to mothers and fathers all across our nation. ()\\n\\nForty million American families have an average $2,200 extra thanks to our child tax credit. () I’ve also overseen historic funding increases for high-quality child care, enabling 17 states to help more children, many of which have reduced or eliminated their waitlists altogether. () And I sent Congress a plan with a vision to further expand access to high-quality child care, and urge you to act immediately. ()\\n\\nTo protect the environment, days ago I announced that the United States will join the One Trillion Trees Initiative, an ambitious effort to bring together government and private sector to plant new trees in America and all around the world. ()\\n\\nWe must also rebuild America’s infrastructure. () I ask you to pass Senator John Barrasso’s highway bill to invest in new roads, bridges, and tunnels all across our land.\\n\\nI’m also committed to ensuring that every citizen can have access to high-speed Internet, including and especially in rural America. ()\\nA better tomorrow for all Americans also requires us to keep America safe. That means supporting the men and women of law enforcement at every level, including our nation’s heroic ICE officers. ()\\n\\nLast year, our brave ICE officers arrested more than 120,000 criminal aliens charged with nearly 10,000 burglaries, 5,000 sexual assaults, 45,000 violent assaults, and 2,000 murders.\\n\\nTragically, there are many cities in America where radical politicians have chosen to provide sanctuary for these criminal illegal aliens.\\n\\nAUDIENCE: Booo —\\n\\nTHE PRESIDENT: In sanctuary cities, local officials order police to release dangerous criminal aliens to prey upon the public, instead of handing them over to ICE to be safely removed.\\n\\nJust 29 days ago, a criminal alien freed by the sanctuary city of New York was charged with the brutal rape and murder of a 92-year-old woman. The killer had been previously arrested for assault, but under New York’s sanctuary policies, he was set free. If the city had honored ICE’s detainer request, his victim would still be alive today.\\n\\nThe state of California passed an outrageous law declaring their whole state to be a sanctuary for criminal illegal immigrants — a very terrible sanctuary — with catastrophic results.\\n\\nHere is just one tragic example. In December 2018, California police detained an illegal alien with five prior arrests, including convictions for robbery and assault. But as required by California’s Sanctuary Law, local authorities released him.\\nDays later, the criminal alien went on a gruesome spree of deadly violence. He viciously shot one man going about his daily work. He approached a woman sitting in her car and shot her in the arm and in the chest. He walked into a convenience store and wildly fired his weapon. He hijacked a truck and smashed into vehicles, critically injuring innocent victims. One of the victims is — a terrible, terrible situation; died — 51-year-old American named Rocky Jones.\\n\\nRocky was at a gas station when this vile criminal fired eight bullets at him from close range, murdering him in cold blood. Rocky left behind a devoted family, including his brothers, who loved him more than anything else in the world. One of his grieving brothers is here with us tonight. Jody, would you please stand? Jody, thank you. () Jody, our hearts weep for your loss, and we will not rest until you have justice.\\n\\nSenator Thom Tillis has introduced legislation to allow Americans like Jody to sue sanctuary cities and states when a loved one is hurt or killed as a result of these deadly practices. ()\\n\\nI ask Congress to pass the Justice for Victims of Sanctuary Cities Act immediately. The United States of America should be a sanctuary for law-abiding Americans, not criminal aliens. ()\\n\\nIn the last three years, ICE has arrested over 5,000 wicked human traffickers. And I have signed nine pieces of legislation to stamp out the menace of human trafficking, domestically and all around the globe. My administration has undertaken an unprecedented effort to secure the southern border of the United States. ()\\n\\nBefore I came into office, if you showed up illegally on our southern border and were arrested, you were simply released and allowed into our country, never to be seen again. My administration has ended catch and release. () If you come illegally, you will now be promptly removed from our country. ()\\n\\nVery importantly, we entered into historic cooperation agreements with the governments of Mexico, Honduras, El Salvador, and Guatemala. As a result of our unprecedented efforts, illegal crossings are down 75 percent since May, dropping eight straight months in a row. () And as the wall rapidly goes up, drug seizures rise, and the border crossings are down, and going down very rapidly.\\nLast year, I traveled to the border in Texas and met Chief Patrol Agent Raul Ortiz. Over the last 24 months, Agent Ortiz and his team have seized more than 200,000 pounds of poisonous narcotics, arrested more than 3,000 human smugglers, and rescued more than 2,000 migrants. Days ago, Agent Ortiz was promoted to Deputy Chief of Border Patrol, and he joins us tonight. Chief Ortiz, please stand. () A grateful nation thanks you and all of the heroes of Border Patrol and ICE. Thank you very much. Thank you. ()\\n\\nTo build on these historic gains, we are working on legislation to replace our outdated and randomized immigration system with one based on merit, welcoming those who follow the rules, contribute to our economy, support themselves financially, and uphold our values. ()\\n\\nWith every action, my administration is restoring the rule of law and reasserting the culture of American freedom. () Working with Senate Majority Leader Mitch McConnell — thank you, Mitch — (applause) — and his colleagues in the Senate, we have confirmed a record number of 187 new federal judges to uphold our Constitution as written. This includes two brilliant new Supreme Court justices, Neil Gorsuch and Brett Kavanaugh. Thank you. () And we have many in the pipeline. (Laughter and applause.)\\n\\nMy administration is also defending religious liberty, and that includes the constitutional right to pray in public schools. () In America, we don’t punish prayer. We don’t tear down crosses. We don’t ban symbols of faith. We don’t muzzle preachers and pastors. In America, we celebrate faith, we cherish religion, we lift our voices in prayer, and we raise our sights to the Glory of God.\\n\\nJust as we believe in the First Amendment, we also believe in another constitutional right that is under siege all across our country. So long as I am president, I will always protect your Second Amendment right to keep and bear arms. ()\\n\\nIn reaffirming our heritage as a free nation, we must remember that America has always been a frontier nation. Now we must embrace the next frontier, America’s manifest destiny in the stars. I am asking Congress to fully fund the Artemis program to ensure that the next man and the first woman on the Moon will be American astronauts — (applause) — using this as a launching pad to ensure that America is the first nation to plant its flag on Mars. ()\\n\\nMy administration is also strongly defending our national security and combating radical Islamic terrorism. ()\\nLast week, I announced a groundbreaking plan for peace between Israel and the Palestinians. Recognizing that all past attempts have failed, we must be determined and creative in order to stabilize the region and give millions of young people the chance to realize a better future.\\n\\nThree years ago, the barbarians of ISIS held over 20,000 square miles of territory in Iraq and Syria. Today, the ISIS territorial caliphate has been 100 percent destroyed, and the founder and leader of ISIS — the bloodthirsty killer known as al-Baghdadi — is dead. ()\\n\\nWe are joined this evening by Carl and Marsha Mueller. After graduating from college, their beautiful daughter Kayla became a humanitarian aid worker. She once wrote, “Some people find God in church. Some people find God in nature. Some people find God in love. I find God in suffering. I’ve known for some time what my life’s work is, using my hands as tools to relieve suffering.” In 2013, while caring for suffering civilians in Syria, Kayla was kidnapped, tortured, and enslaved by ISIS, and kept as a prisoner of al-Baghdadi himself. After more than 500 horrifying days of captivity, al-Baghdadi murdered young, beautiful Kayla. She was just 26 years old.\\n\\nOn the night that U.S. Special Forces Operations ended al-Baghdadi’s miserable life, the Chairman of the Joint Chiefs of Staff, General Mark Milley, received a call in the Situation Room. He was told that the brave men of the elite Special Forces team that so perfectly carried out the operation had given their mission a name: “Task Force 8-14.” It was a reference to a special day: Aug. 14 — Kayla’s birthday. Carl and Marsha, America’s warriors never forgot Kayla — and neither will we. Thank you. ()\\n\\nEvery day, America’s men and women in uniform demonstrate the infinite depth of love that dwells in the human heart.\\n\\nOne of these American heroes was Army Staff Sgt. Christopher Hake. On his second deployment to Iraq in 2008, Sergeant Hake wrote a letter to his 1-year-old son, Gage: “I will be with you again,” he wrote to Gage. “I will teach you to ride your first bike, build your first sand box, watch you play sports, and see you have kids also. I love you son. Take care of your mother. I am always with you. Daddy.”\\n\\nOn Easter Sunday of 2008, Chris was out on patrol in Baghdad when his Bradley Fighting Vehicle was hit by a roadside bomb. That night, he made the ultimate sacrifice for our country. Sergeant Hake now rests in eternal glory in Arlington, and his wife, Kelli, is in the Gallery tonight, joined by their son, who is now a 13-year-old and doing very, very well. To Kelli and Gage: Chris will live in our hearts forever. He is looking down on you now. Thank you. () Thank you very much. Thank you both very much.\\nThe terrorist responsible for killing Sergeant Hake was Qassim Suleimani, who provided the deadly roadside bomb that took Chris’s life. Suleimani was the Iranian regime’s most ruthless butcher, a monster who murdered or wounded thousands of American service members in Iraq. As the world’s top terrorist, Suleimani orchestrated the deaths of countless men, women, and children. He directed the December assault and went on to assault U.S. forces in Iraq. Was actively planning new attacks when we hit him very hard. And that’s why, last month, at my direction, the U.S. military executed a flawless precision strike that killed Suleimani and terminated his evil reign of terror forever. ()\\n\\nOur message to the terrorists is clear: You will never escape American justice. If you attack our citizens, you forfeit your life. ()\\n\\nIn recent months, we have seen proud Iranians raise their voices against their oppressive rulers. The Iranian regime must abandon its pursuit of nuclear weapons; stop spreading terror, death, and destruction; and start working for the good of its own people.\\n\\nBecause of our powerful sanctions, the Iranian economy is doing very, very poorly. We can help them make a very good and short-time recovery. It can all go very quickly, but perhaps they are too proud or too foolish to ask for that help. We are here. Let’s see which road they choose. It is totally up to them. ()\\n\\nAs we defend American lives, we are working to end America’s wars in the Middle East.\\n\\nIn Afghanistan, the determination and valor of our warfighters has allowed us to make tremendous progress, and peace talks are now underway. I am not looking to kill hundreds of thousands of people in Afghanistan, many of them totally innocent. It is also not our function to serve other nations as law enforcement agencies. These are warfighters that we have — the best in the world — and they either want to fight to win or not fight at all. We are working to finally end America’s longest war and bring our troops back home. ()\\n\\nWar places a heavy burden on our nation’s extraordinary military families, especially spouses like Amy Williams from Fort Bragg, North Carolina, and her two children — 6-year-old Elliana and 3-year-old Rowan. Amy works full-time and volunteers countless hours helping other military families. For the past seven months, she has done it all while her husband, Sgt. First Class Townsend Williams, is in Afghanistan on his fourth deployment in the Middle East. Amy’s kids haven’t seen their father’s face in many months. Amy, your family’s sacrifice makes it possible for all of our families to live in safety and in peace, and we want to thank you. Thank you, Amy. ()\\n\\nBut, Amy, there is one more thing. Tonight, we have a very special surprise. I am thrilled to inform you that your husband is back from deployment. He is here with us tonight, and we couldn’t keep him waiting any longer. ()\\nAUDIENCE: U.S.A.! U.S.A.! U.S.A.!\\n\\nTHE PRESIDENT: Welcome home, Sergeant Williams. Thank you very much.\\n\\nAs the world bears witness tonight, America is a land of heroes. This is a place where greatness is born, where destinies are forged, and where legends come to life. This is the home of Thomas Edison and Teddy Roosevelt, of many great generals including Washington, Pershing, Patton, and MacArthur. This is the home of Abraham Lincoln, Frederick Douglass, Amelia Earhart, Harriet Tubman, the Wright Brothers, Neil Armstrong, and so many more. This is the country where children learn names like Wyatt Earp, Davy Crockett, and Annie Oakley. This is the place where the pilgrims landed at Plymouth and where Texas patriots made their last stand at the Alamo — (applause) — the beautiful, beautiful Alamo.\\n\\nThe American nation was carved out of the vast frontier by the toughest, strongest, fiercest, and most determined men and women ever to walk on the face of the Earth. Our ancestors braved the unknown; tamed the wilderness; settled the Wild West; lifted millions from poverty, disease, and hunger; vanquished tyranny and fascism; ushered the world to new heights of science and medicine; laid down the railroads, dug out the canals, raised up the skyscrapers. And, ladies and gentlemen, our ancestors built the most exceptional republic ever to exist in all of human history, and we are making it greater than ever before. ()\\n\\nThis is our glorious and magnificent inheritance. We are Americans. We are pioneers. We are the pathfinders. We settled the New World, we built the modern world, and we changed history forever by embracing the eternal truth that everyone is made equal by the hand of Almighty God. ()\\n\\nAmerica is the place where anything can happen. America is the place where anyone can rise. And here, on this land, on this soil, on this continent, the most incredible dreams come true.\\n\\nThis nation is our canvas, and this country is our masterpiece. We look at tomorrow and see unlimited frontiers just waiting to be explored. Our brightest discoveries are not yet known. Our most thrilling stories are not yet told. Our grandest journeys are not yet made. The American Age, the American Epic, the American adventure has only just begun.\\n\\nOur spirit is still young, the sun is still rising, God’s grace is still shining, and, my fellow Americans, the best is yet to come. ()\\n\\nThank you. God bless you. And God bless America. Thank you very much. ()\"\"\""
   ]
  },
  {
   "cell_type": "code",
   "execution_count": 3,
   "id": "c15cc7fa",
   "metadata": {},
   "outputs": [
    {
     "name": "stdout",
     "output_type": "stream",
     "text": [
      "['Iranian', 'Iranian', 'Iranian']\n",
      "3\n"
     ]
    }
   ],
   "source": [
    "# Nooby\n",
    "import re\n",
    "key_words = ['iranian']\n",
    "key_word_results = []\n",
    "key_word_counter = 0\n",
    "for word in trump_2020.split():\n",
    "    if word.lower() in key_words:\n",
    "        key_word_results.append(word)\n",
    "        key_word_counter += 1\n",
    "print(key_word_results)\n",
    "print(key_word_counter)"
   ]
  },
  {
   "cell_type": "code",
   "execution_count": 136,
   "id": "42f3cb97",
   "metadata": {},
   "outputs": [
    {
     "data": {
      "text/plain": [
       "4"
      ]
     },
     "execution_count": 136,
     "metadata": {},
     "output_type": "execute_result"
    }
   ],
   "source": [
    "# Pro\n",
    "import re\n",
    "result = re.findall(r'iran', trump_2020,  flags=re.IGNORECASE)\n",
    "len(result)"
   ]
  },
  {
   "cell_type": "code",
   "execution_count": 128,
   "id": "b9e86d25",
   "metadata": {},
   "outputs": [
    {
     "data": {
      "text/plain": [
       "2"
      ]
     },
     "execution_count": 128,
     "metadata": {},
     "output_type": "execute_result"
    }
   ],
   "source": [
    "import re\n",
    "result = re.findall(r'canada', trump_2020,  flags=re.IGNORECASE)\n",
    "len(result)"
   ]
  },
  {
   "cell_type": "code",
   "execution_count": 129,
   "id": "4c67d505",
   "metadata": {},
   "outputs": [
    {
     "data": {
      "text/plain": [
       "3"
      ]
     },
     "execution_count": 129,
     "metadata": {},
     "output_type": "execute_result"
    }
   ],
   "source": [
    "import re\n",
    "result = re.findall(r'afghanistan', trump_2020,  flags=re.IGNORECASE)\n",
    "len(result)"
   ]
  },
  {
   "cell_type": "code",
   "execution_count": 130,
   "id": "b33b0991",
   "metadata": {},
   "outputs": [
    {
     "data": {
      "text/plain": [
       "2"
      ]
     },
     "execution_count": 130,
     "metadata": {},
     "output_type": "execute_result"
    }
   ],
   "source": [
    "import re\n",
    "result = re.findall(r'middle east', trump_2020,  flags=re.IGNORECASE)\n",
    "len(result)"
   ]
  },
  {
   "cell_type": "code",
   "execution_count": 5,
   "id": "3b67a04b",
   "metadata": {},
   "outputs": [
    {
     "data": {
      "text/plain": [
       "3"
      ]
     },
     "execution_count": 5,
     "metadata": {},
     "output_type": "execute_result"
    }
   ],
   "source": [
    "import re\n",
    "result = re.findall(r'mexico', trump_2020,  flags=re.IGNORECASE)\n",
    "len(result)"
   ]
  },
  {
   "cell_type": "code",
   "execution_count": 38,
   "id": "5a2b8db8",
   "metadata": {},
   "outputs": [],
   "source": [
    "def count_all(text):\n",
    "    nl = '\\n'\n",
    "    total = 0\n",
    "    total_sentence = 0\n",
    "    longest_word = 'aaaaa'\n",
    "    second_longest = 'aaaa'\n",
    "    third_longest = 'aaa'\n",
    "    ly_words = re.findall(r'\\w+ly\\W', text)\n",
    "    ly_unique_words = []\n",
    "    ly_words_all = len(ly_words)\n",
    "    for ly_word in ly_words:\n",
    "        if ly_word not in ly_unique_words:\n",
    "            ly_unique_words.append(ly_word)\n",
    "    ly_unique_words_len = len(ly_unique_words)\n",
    "    number_of_letters = len(re.findall(r'\\w', text))\n",
    "    number_of_words = len(text.split())\n",
    "    for word in text.split():\n",
    "        total += len(word)\n",
    "        if len(word) > len(longest_word):\n",
    "            longest_word = word\n",
    "        if len(longest_word) > len(word) > len(second_longest):\n",
    "            second_longest = word\n",
    "        if len(second_longest) > len(word) > len(third_longest):\n",
    "            third_longest = word\n",
    "    sentences = re.findall(r'([A-Z][^\\.!?]*[\\.!?])', text)\n",
    "    number_of_senteces = len(sentences)\n",
    "    for sentence in sentences:\n",
    "        total_sentence += len(sentence)\n",
    "    return print(f\"\\nNumber of letters = {number_of_letters}\\nNumber of words = {number_of_words}\\nAverage word length = {total/number_of_words:.1f} Characters\\nNumber of sentences = {total_sentence}\\nAverage sentence length = {total_sentence / number_of_senteces:.2f} Characters\\nLongest word = {longest_word}\\nSecond longest word = {second_longest}\\nThird longest = {third_longest}\\nNumber of ly words = {ly_words_all}\\nUnique 'ly' wrods = {ly_unique_words}\")"
   ]
  },
  {
   "cell_type": "code",
   "execution_count": 36,
   "id": "5f419f95",
   "metadata": {},
   "outputs": [
    {
     "name": "stdout",
     "output_type": "stream",
     "text": [
      "\n",
      "Number of letters = 30180\n",
      "Number of words = 6424\n",
      "Average word length = 4.9 Characters\n",
      "Number of sentences = 36557\n",
      "Average sentence length = 81.97 Characters\n",
      "Longest word = African-Americans,\n",
      "Second longest word = African-American\n",
      "Third longest = administration,\n",
      "Number of ly words = 86\n",
      "Unique 'ly' wrods = ['highly ', 'totally ', 'completely ', 'rapidly ', 'relentlessly ', 'family,', 'incredibly,', 'wonderfully,', 'previously ', 'family.', 'only ', 'absolutely ', 'nearly ', 'massively ', 'finally,', 'fairly ', 'frankly,', 'really ', 'exactly ', 'badly ', 'proudly ', 'historically ', 'quickly ', 'substantially ', 'entirely.', 'unlawfully ', 'strongly ', 'fully ', 'Early ', 'actually ', 'properly.', 'dramatically ', 'immediately.', 'closely ', 'family ', 'constantly ', 'finally ', 'surely ', 'recently ', 'especially ', 'Tragically,', 'safely ', 'deadly ', 'viciously ', 'daily ', 'wildly ', 'critically ', 'domestically ', 'illegally ', 'simply ', 'illegally,', 'promptly ', 'importantly,', 'rapidly.', 'financially,', 'perfectly ', 'actively ', 'poorly.', 'quickly,', 'family’']\n"
     ]
    }
   ],
   "source": [
    "count_all(trump_2020)"
   ]
  },
  {
   "cell_type": "code",
   "execution_count": 37,
   "id": "1de60178",
   "metadata": {},
   "outputs": [],
   "source": [
    "obama_2012 = \"\"\"\"Last month, I went to Andrews Air Force Base and welcomed home some of our last troops to serve in Iraq. Together, we offered a final, proud salute to the colors under which more than a million of our fellow citizens fought -- and several thousand gave their lives.\n",
    "\n",
    "We gather tonight knowing that this generation of heroes has made the United States safer and more respected around the world. For the first time in nine years, there are no Americans fighting in Iraq. For the first time in two decades, Osama bin Laden is not a threat to this country. Most of al Qaeda’s top lieutenants have been defeated. The Taliban’s momentum has been broken, and some troops in Afghanistan have begun to come home.\n",
    "\n",
    "These achievements are a testament to the courage, selflessness and teamwork of America’s Armed Forces. At a time when too many of our institutions have let us down, they exceed all expectations. They’re not consumed with personal ambition. They don’t obsess over their differences. They focus on the mission at hand. They work together.\n",
    "\n",
    "Imagine what we could accomplish if we followed their example. Think about the America within our reach: A country that leads the world in educating its people. An America that attracts a new generation of high-tech manufacturing and high-paying jobs. A future where we’re in control of our own energy, and our security and prosperity aren’t so tied to unstable parts of the world. An economy built to last, where hard work pays off, and responsibility is rewarded.\n",
    "\n",
    "We can do this. I know we can, because we’ve done it before. At the end of World War II, when another generation of heroes returned home from combat, they built the strongest economy and middle class the world has ever known. My grandfather, a veteran of Patton’s Army, got the chance to go to college on the GI Bill. My grandmother, who worked on a bomber assembly line, was part of a workforce that turned out the best products on Earth.\n",
    "\n",
    "The two of them shared the optimism of a nation that had triumphed over a depression and fascism. They understood they were part of something larger; that they were contributing to a story of success that every American had a chance to share -- the basic American promise that if you worked hard, you could do well enough to raise a family, own a home, send your kids to college, and put a little away for retirement.\n",
    "\n",
    "The defining issue of our time is how to keep that promise alive. No challenge is more urgent. No debate is more important. We can either settle for a country where a shrinking number of people do really well while a growing number of Americans barely get by, or we can restore an economy where everyone gets a fair shot, and everyone does their fair share, and everyone plays by the same set of rules. What’s at stake aren’t Democratic values or Republican values, but American values. And we have to reclaim them.\n",
    "\n",
    "Let’s remember how we got here. Long before the recession, jobs and manufacturing began leaving our shores. Technology made businesses more efficient, but also made some jobs obsolete. Folks at the top saw their incomes rise like never before, but most hardworking Americans struggled with costs that were growing, paychecks that weren’t, and personal debt that kept piling up.\n",
    "\n",
    "In 2008, the house of cards collapsed. We learned that mortgages had been sold to people who couldn’t afford or understand them. Banks had made huge bets and bonuses with other people’s money. Regulators had looked the other way, or didn’t have the authority to stop the bad behavior.\n",
    "\n",
    "It was wrong. It was irresponsible. And it plunged our economy into a crisis that put millions out of work, saddled us with more debt, and left innocent, hardworking Americans holding the bag. In the six months before I took office, we lost nearly 4 million jobs. And we lost another 4 million before our policies were in full effect.\n",
    "\n",
    "Those are the facts. But so are these: In the last 22 months, businesses have created more than 3 million jobs.\n",
    "\n",
    "Last year, they created the most jobs since 2005. American manufacturers are hiring again, creating jobs for the first time since the late 1990s. Together, we’ve agreed to cut the deficit by more than $2 trillion. And we’ve put in place new rules to hold Wall Street accountable, so a crisis like this never happens again.\n",
    "\n",
    "The state of our Union is getting stronger. And we’ve come too far to turn back now. As long as I’m President, I will work with anyone in this chamber to build on this momentum. But I intend to fight obstruction with action, and I will oppose any effort to return to the very same policies that brought on this economic crisis in the first place.\n",
    "\n",
    "No, we will not go back to an economy weakened by outsourcing, bad debt, and phony financial profits. Tonight, I want to speak about how we move forward, and lay out a blueprint for an economy that’s built to last -– an economy built on American manufacturing, American energy, skills for American workers, and a renewal of American values.\n",
    "\n",
    "Now, this blueprint begins with American manufacturing.\n",
    "\n",
    "On the day I took office, our auto industry was on the verge of collapse. Some even said we should let it die. With a million jobs at stake, I refused to let that happen. In exchange for help, we demanded responsibility. We got workers and automakers to settle their differences. We got the industry to retool and restructure. Today, General Motors is back on top as the world’s number-one automaker. Chrysler has grown faster in the U.S. than any major car company. Ford is investing billions in U.S. plants and factories. And together, the entire industry added nearly 160,000 jobs.\n",
    "\n",
    "We bet on American workers. We bet on American ingenuity. And tonight, the American auto industry is back.\n",
    "\n",
    "What’s happening in Detroit can happen in other industries. It can happen in Cleveland and Pittsburgh and Raleigh. We can’t bring every job back that’s left our shore. But right now, it’s getting more expensive to do business in places like China. Meanwhile, America is more productive. A few weeks ago, the CEO of Master Lock told me that it now makes business sense for him to bring jobs back home. Today, for the first time in 15 years, Master Lock’s unionized plant in Milwaukee is running at full capacity.\n",
    "\n",
    "So we have a huge opportunity, at this moment, to bring manufacturing back. But we have to seize it. Tonight, my message to business leaders is simple: Ask yourselves what you can do to bring jobs back to your country, and your country will do everything we can to help you succeed.\n",
    "\n",
    "We should start with our tax code. Right now, companies get tax breaks for moving jobs and profits overseas. Meanwhile, companies that choose to stay in America get hit with one of the highest tax rates in the world. It makes no sense, and everyone knows it. So let’s change it.\n",
    "\n",
    "First, if you’re a business that wants to outsource jobs, you shouldn’t get a tax deduction for doing it. That money should be used to cover moving expenses for companies like Master Lock that decide to bring jobs home.\n",
    "\n",
    "Second, no American company should be able to avoid paying its fair share of taxes by moving jobs and profits overseas. From now on, every multinational company should have to pay a basic minimum tax. And every penny should go towards lowering taxes for companies that choose to stay here and hire here in America. Third, if you’re an American manufacturer, you should get a bigger tax cut. If you’re a high-tech manufacturer, we should double the tax deduction you get for making your products here. And if you want to relocate in a community that was hit hard when a factory left town, you should get help financing a new plant, equipment, or training for new workers. So my message is simple. It is time to stop rewarding businesses that ship jobs overseas, and start rewarding companies that create jobs right here in America. Send me these tax reforms, and I will sign them right away.\n",
    "\n",
    "We’re also making it easier for American businesses to sell products all over the world. Two years ago, I set a goal of doubling U.S. exports over five years. With the bipartisan trade agreements we signed into law, we’re on track to meet that goal ahead of schedule. And soon, there will be millions of new customers for American goods in Panama, Colombia, and South Korea. Soon, there will be new cars on the streets of Seoul imported from Detroit, and Toledo, and Chicago. I will go anywhere in the world to open new markets for American products. And I will not stand by when our competitors don’t play by the rules. We’ve brought trade cases against China at nearly twice the rate as the last administration –- and it’s made a difference. Over a thousand Americans are working today because we stopped a surge in Chinese tires. But we need to do more. It’s not right when another country lets our movies, music, and software be pirated. It’s not fair when foreign manufacturers have a leg up on ours only because they’re heavily subsidized.\n",
    "\n",
    "Tonight, I’m announcing the creation of a Trade Enforcement Unit that will be charged with investigating unfair trading practices in countries like China. There will be more inspections to prevent counterfeit or unsafe goods from crossing our borders. And this Congress should make sure that no foreign company has an advantage over American manufacturing when it comes to accessing financing or new markets like Russia. Our workers are the most productive on Earth, and if the playing field is level, I promise you -– America will always win. I also hear from many business leaders who want to hire in the United States but can’t find workers with the right skills. Growing industries in science and technology have twice as many openings as we have workers who can do the job. Think about that –- openings at a time when millions of Americans are looking for work. It’s inexcusable. And we know how to fix it. Jackie Bray is a single mom from North Carolina who was laid off from her job as a mechanic. Then Siemens opened a gas turbine factory in Charlotte, and formed a partnership with Central Piedmont Community College. The company helped the college design courses in laser and robotics training. It paid Jackie’s tuition, then hired her to help operate their plant. I want every American looking for work to have the same opportunity as Jackie did. Join me in a national commitment to train 2 million Americans with skills that will lead directly to a job. My administration has already lined up more companies that want to help. Model partnerships between businesses like Siemens and community colleges in places like Charlotte, and Orlando, and Louisville are up and running. Now you need to give more community colleges the resources they need to become community career centers -– places that teach people skills that businesses are looking for right now, from data management to high-tech manufacturing.\n",
    "\n",
    "And I want to cut through the maze of confusing training programs, so that from now on, people like Jackie have one program, one website, and one place to go for all the information and help that they need. It is time to turn our unemployment system into a reemployment system that puts people to work.\n",
    "\n",
    "These reforms will help people get jobs that are open today. But to prepare for the jobs of tomorrow, our commitment to skills and education has to start earlier. For less than 1 percent of what our nation spends on education each year, we’ve convinced nearly every state in the country to raise their standards for teaching and learning -- the first time that’s happened in a generation.\n",
    "\n",
    "But challenges remain. And we know how to solve them.\n",
    "\n",
    "At a time when other countries are doubling down on education, tight budgets have forced states to lay off thousands of teachers. We know a good teacher can increase the lifetime income of a classroom by over $250,000. A great teacher can offer an escape from poverty to the child who dreams beyond his circumstance. Every person in this chamber can point to a teacher who changed the trajectory of their lives. Most teachers work tirelessly, with modest pay, sometimes digging into their own pocket for school supplies -- just to make a difference.\n",
    "\n",
    "Teachers matter. So instead of bashing them, or defending the status quo, let’s offer schools a deal. Give them the resources to keep good teachers on the job, and reward the best ones. And in return, grant schools flexibility: to teach with creativity and passion; to stop teaching to the test; and to replace teachers who just aren’t helping kids learn. That’s a bargain worth making.\n",
    "\n",
    "We also know that when students don’t walk away from their education, more of them walk the stage to get their diploma. When students are not allowed to drop out, they do better. So tonight, I am proposing that every state -- every state -- requires that all students stay in high school until they graduate or turn 18.\n",
    "\n",
    "When kids do graduate, the most daunting challenge can be the cost of college. At a time when Americans owe more in tuition debt than credit card debt, this Congress needs to stop the interest rates on student loans from doubling in July.\n",
    "\n",
    "Extend the tuition tax credit we started that saves millions of middle-class families thousands of dollars, and give more young people the chance to earn their way through college by doubling the number of work-study jobs in the next five years.\n",
    "\n",
    "Of course, it’s not enough for us to increase student aid. We can’t just keep subsidizing skyrocketing tuition; we’ll run out of money. States also need to do their part, by making higher education a higher priority in their budgets. And colleges and universities have to do their part by working to keep costs down.\n",
    "\n",
    "Recently, I spoke with a group of college presidents who’ve done just that. Some schools redesign courses to help students finish more quickly. Some use better technology. The point is, it’s possible. So let me put colleges and universities on notice: If you can’t stop tuition from going up, the funding you get from taxpayers will go down. Higher education can’t be a luxury -– it is an economic imperative that every family in America should be able to afford.\n",
    "\n",
    "Let’s also remember that hundreds of thousands of talented, hardworking students in this country face another challenge: the fact that they aren’t yet American citizens. Many were brought here as small children, are American through and through, yet they live every day with the threat of deportation. Others came more recently, to study business and science and engineering, but as soon as they get their degree, we send them home to invent new products and create new jobs somewhere else.\n",
    "\n",
    "That doesn’t make sense.\n",
    "\n",
    "I believe as strongly as ever that we should take on illegal immigration. That’s why my administration has put more boots on the border than ever before. That’s why there are fewer illegal crossings than when I took office. The opponents of action are out of excuses. We should be working on comprehensive immigration reform right now.\n",
    "\n",
    "But if election-year politics keeps Congress from acting on a comprehensive plan, let’s at least agree to stop expelling responsible young people who want to staff our labs, start new businesses, defend this country. Send me a law that gives them the chance to earn their citizenship. I will sign it right away.\n",
    "\n",
    "You see, an economy built to last is one where we encourage the talent and ingenuity of every person in this country. That means women should earn equal pay for equal work. It means we should support everyone who’s willing to work, and every risk-taker and entrepreneur who aspires to become the next Steve Jobs.\n",
    "\n",
    "After all, innovation is what America has always been about. Most new jobs are created in start-ups and small businesses. So let’s pass an agenda that helps them succeed. Tear down regulations that prevent aspiring entrepreneurs from getting the financing to grow. Expand tax relief to small businesses that are raising wages and creating good jobs. Both parties agree on these ideas. So put them in a bill, and get it on my desk this year.\n",
    "\n",
    "Innovation also demands basic research. Today, the discoveries taking place in our federally financed labs and universities could lead to new treatments that kill cancer cells but leave healthy ones untouched. New lightweight vests for cops and soldiers that can stop any bullet. Don’t gut these investments in our budget. Don’t let other countries win the race for the future. Support the same kind of research and innovation that led to the computer chip and the Internet; to new American jobs and new American industries.\n",
    "\n",
    "And nowhere is the promise of innovation greater than in American-made energy. Over the last three years, we’ve opened millions of new acres for oil and gas exploration, and tonight, I’m directing my administration to open more than 75 percent of our potential offshore oil and gas resources. Right now -- right now -- American oil production is the highest that it’s been in eight years. That’s right -- eight years. Not only that -- last year, we relied less on foreign oil than in any of the past 16 years.\n",
    "\n",
    "But with only 2 percent of the world’s oil reserves, oil isn’t enough. This country needs an all-out, all-of-the-above strategy that develops every available source of American energy. A strategy that’s cleaner, cheaper, and full of new jobs.\n",
    "\n",
    "We have a supply of natural gas that can last America nearly 100 years. And my administration will take every possible action to safely develop this energy. Experts believe this will support more than 600,000 jobs by the end of the decade. And I’m requiring all companies that drill for gas on public lands to disclose the chemicals they use. Because America will develop this resource without putting the health and safety of our citizens at risk.\n",
    "\n",
    "The development of natural gas will create jobs and power trucks and factories that are cleaner and cheaper, proving that we don’t have to choose between our environment and our economy. And by the way, it was public research dollars, over the course of 30 years, that helped develop the technologies to extract all this natural gas out of shale rock –- reminding us that government support is critical in helping businesses get new energy ideas off the ground.\n",
    "\n",
    "Now, what’s true for natural gas is just as true for clean energy. In three years, our partnership with the private sector has already positioned America to be the world’s leading manufacturer of high-tech batteries. Because of federal investments, renewable energy use has nearly doubled, and thousands of Americans have jobs because of it. When Bryan Ritterby was laid off from his job making furniture, he said he worried that at 55, no one would give him a second chance. But he found work at Energetx, a wind turbine manufacturer in Michigan. Before the recession, the factory only made luxury yachts. Today, it’s hiring workers like Bryan, who said, “I’m proud to be working in the industry of the future.” Our experience with shale gas, our experience with natural gas, shows us that the payoffs on these public investments don’t always come right away. Some technologies don’t pan out; some companies fail. But I will not walk away from the promise of clean energy. I will not walk away from workers like Bryan. I will not cede the wind or solar or battery industry to China or Germany because we refuse to make the same commitment here.\n",
    "\n",
    "We’ve subsidized oil companies for a century. That’s long enough. It’s time to end the taxpayer giveaways to an industry that rarely has been more profitable, and double-down on a clean energy industry that never has been more promising. Pass clean energy tax credits. Create these jobs.\n",
    "\n",
    "We can also spur energy innovation with new incentives. The differences in this chamber may be too deep right now to pass a comprehensive plan to fight climate change. But there’s no reason why Congress shouldn’t at least set a clean energy standard that creates a market for innovation. So far, you haven’t acted. Well, tonight, I will. I’m directing my administration to allow the development of clean energy on enough public land to power 3 million homes. And I’m proud to announce that the Department of Defense, working with us, the world’s largest consumer of energy, will make one of the largest commitments to clean energy in history -– with the Navy purchasing enough capacity to power a quarter of a million homes a year. Of course, the easiest way to save money is to waste less energy. So here’s a proposal: Help manufacturers eliminate energy waste in their factories and give businesses incentives to upgrade their buildings. Their energy bills will be $100 billion lower over the next decade, and America will have less pollution, more manufacturing, more jobs for construction workers who need them. Send me a bill that creates these jobs.\n",
    "\n",
    "Building this new energy future should be just one part of a broader agenda to repair America’s infrastructure. So much of America needs to be rebuilt. We’ve got crumbling roads and bridges; a power grid that wastes too much energy; an incomplete high-speed broadband network that prevents a small business owner in rural America from selling her products all over the world. During the Great Depression, America built the Hoover Dam and the Golden Gate Bridge. After World War II, we connected our states with a system of highways. Democratic and Republican administrations invested in great projects that benefited everybody, from the workers who built them to the businesses that still use them today. In the next few weeks, I will sign an executive order clearing away the red tape that slows down too many construction projects. But you need to fund these projects. Take the money we’re no longer spending at war, use half of it to pay down our debt, and use the rest to do some nation-building right here at home.\n",
    "\n",
    "There’s never been a better time to build, especially since the construction industry was one of the hardest hit when the housing bubble burst. Of course, construction workers weren’t the only ones who were hurt. So were millions of innocent Americans who’ve seen their home values decline. And while government can’t fix the problem on its own, responsible homeowners shouldn’t have to sit and wait for the housing market to hit bottom to get some relief.\n",
    "\n",
    "And that’s why I’m sending this Congress a plan that gives every responsible homeowner the chance to save about $3,000 a year on their mortgage, by refinancing at historically low rates. No more red tape. No more runaround from the banks. A small fee on the largest financial institutions will ensure that it won’t add to the deficit and will give those banks that were rescued by taxpayers a chance to repay a deficit of trust.\n",
    "\n",
    "Let’s never forget: Millions of Americans who work hard and play by the rules every day deserve a government and a financial system that do the same. It’s time to apply the same rules from top to bottom. No bailouts, no handouts, and no copouts. An America built to last insists on responsibility from everybody.\n",
    "\n",
    "We’ve all paid the price for lenders who sold mortgages to people who couldn’t afford them, and buyers who knew they couldn’t afford them. That’s why we need smart regulations to prevent irresponsible behavior. Rules to prevent financial fraud or toxic dumping or faulty medical devices -- these don’t destroy the free market. They make the free market work better.\n",
    "\n",
    "There’s no question that some regulations are outdated, unnecessary, or too costly. In fact, I’ve approved fewer regulations in the first three years of my presidency than my Republican predecessor did in his. I’ve ordered every federal agency to eliminate rules that don’t make sense. We’ve already announced over 500 reforms, and just a fraction of them will save business and citizens more than $10 billion over the next five years. We got rid of one rule from 40 years ago that could have forced some dairy farmers to spend $10,000 a year proving that they could contain a spill -- because milk was somehow classified as an oil. With a rule like that, I guess it was worth crying over spilled milk.\n",
    "\n",
    "Now, I’m confident a farmer can contain a milk spill without a federal agency looking over his shoulder. Absolutely. But I will not back down from making sure an oil company can contain the kind of oil spill we saw in the Gulf two years ago. I will not back down from protecting our kids from mercury poisoning, or making sure that our food is safe and our water is clean. I will not go back to the days when health insurance companies had unchecked power to cancel your policy, deny your coverage, or charge women differently than men.\n",
    "\n",
    "And I will not go back to the days when Wall Street was allowed to play by its own set of rules. The new rules we passed restore what should be any financial system’s core purpose: Getting funding to entrepreneurs with the best ideas, and getting loans to responsible families who want to buy a home, or start a business, or send their kids to college.\n",
    "\n",
    "So if you are a big bank or financial institution, you’re no longer allowed to make risky bets with your customers’ deposits. You’re required to write out a “living will” that details exactly how you’ll pay the bills if you fail –- because the rest of us are not bailing you out ever again. And if you’re a mortgage lender or a payday lender or a credit card company, the days of signing people up for products they can’t afford with confusing forms and deceptive practices -- those days are over. Today, American consumers finally have a watchdog in Richard Cordray with one job: To look out for them.\n",
    "\n",
    "We’ll also establish a Financial Crimes Unit of highly trained investigators to crack down on large-scale fraud and protect people’s investments. Some financial firms violate major anti-fraud laws because there’s no real penalty for being a repeat offender. That’s bad for consumers, and it’s bad for the vast majority of bankers and financial service professionals who do the right thing. So pass legislation that makes the penalties for fraud count.\n",
    "\n",
    "And tonight, I’m asking my Attorney General to create a special unit of federal prosecutors and leading state attorney general to expand our investigations into the abusive lending and packaging of risky mortgages that led to the housing crisis. This new unit will hold accountable those who broke the law, speed assistance to homeowners, and help turn the page on an era of recklessness that hurt so many Americans.\n",
    "\n",
    "Now, a return to the American values of fair play and shared responsibility will help protect our people and our economy. But it should also guide us as we look to pay down our debt and invest in our future.\n",
    "\n",
    "Right now, our most immediate priority is stopping a tax hike on 160 million working Americans while the recovery is still fragile. People cannot afford losing $40 out of each paycheck this year. There are plenty of ways to get this done. So let’s agree right here, right now: No side issues. No drama. Pass the payroll tax cut without delay. Let’s get it done.\n",
    "\n",
    "When it comes to the deficit, we’ve already agreed to more than $2 trillion in cuts and savings. But we need to do more, and that means making choices. Right now, we’re poised to spend nearly $1 trillion more on what was supposed to be a temporary tax break for the wealthiest 2 percent of Americans. Right now, because of loopholes and shelters in the tax code, a quarter of all millionaires pay lower tax rates than millions of middle-class households. Right now, Warren Buffett pays a lower tax rate than his secretary.\n",
    "\n",
    "Do we want to keep these tax cuts for the wealthiest Americans? Or do we want to keep our investments in everything else –- like education and medical research; a strong military and care for our veterans? Because if we’re serious about paying down our debt, we can’t do both.\n",
    "\n",
    "The American people know what the right choice is. So do I. As I told the Speaker this summer, I’m prepared to make more reforms that rein in the long-term costs of Medicare and Medicaid, and strengthen Social Security, so long as those programs remain a guarantee of security for seniors.\n",
    "\n",
    "But in return, we need to change our tax code so that people like me, and an awful lot of members of Congress, pay our fair share of taxes.\n",
    "\n",
    "Tax reform should follow the Buffett Rule. If you make more than $1 million a year, you should not pay less than 30 percent in taxes. And my Republican friend Tom Coburn is right: Washington should stop subsidizing millionaires. In fact, if you’re earning a million dollars a year, you shouldn’t get special tax subsidies or deductions. On the other hand, if you make under $250,000 a year, like 98 percent of American families, your taxes shouldn’t go up. You’re the ones struggling with rising costs and stagnant wages. You’re the ones who need relief.\n",
    "\n",
    "Now, you can call this class warfare all you want. But asking a billionaire to pay at least as much as his secretary in taxes? Most Americans would call that common sense. We don’t begrudge financial success in this country. We admire it. When Americans talk about folks like me paying my fair share of taxes, it’s not because they envy the rich. It’s because they understand that when I get a tax break I don’t need and the country can’t afford, it either adds to the deficit, or somebody else has to make up the difference -- like a senior on a fixed income, or a student trying to get through school, or a family trying to make ends meet. That’s not right. Americans know that’s not right. They know that this generation’s success is only possible because past generations felt a responsibility to each other, and to the future of their country, and they know our way of life will only endure if we feel that same sense of shared responsibility. That’s how we’ll reduce our deficit. That’s an America built to last.\n",
    "\n",
    "Now, I recognize that people watching tonight have differing views about taxes and debt, energy and health care. But no matter what party they belong to, I bet most Americans are thinking the same thing right about now: Nothing will get done in Washington this year, or next year, or maybe even the year after that, because Washington is broken.\n",
    "\n",
    "Can you blame them for feeling a little cynical?\n",
    "\n",
    "The greatest blow to our confidence in our economy last year didn’t come from events beyond our control. It came from a debate in Washington over whether the United States would pay its bills or not. Who benefited from that fiasco?\n",
    "\n",
    "I’ve talked tonight about the deficit of trust between Main Street and Wall Street. But the divide between this city and the rest of the country is at least as bad -- and it seems to get worse every year.\n",
    "\n",
    "Some of this has to do with the corrosive influence of money in politics. So together, let’s take some steps to fix that. Send me a bill that bans insider trading by members of Congress; I will sign it tomorrow. Let’s limit any elected official from owning stocks in industries they impact. Let’s make sure people who bundle campaign contributions for Congress can’t lobby Congress, and vice versa -- an idea that has bipartisan support, at least outside of Washington.\n",
    "\n",
    "Some of what’s broken has to do with the way Congress does its business these days. A simple majority is no longer enough to get anything -– even routine business –- passed through the Senate. Neither party has been blameless in these tactics. Now both parties should put an end to it. For starters, I ask the Senate to pass a simple rule that all judicial and public service nominations receive a simple up or down vote within 90 days.\n",
    "\n",
    "The executive branch also needs to change. Too often, it’s inefficient, outdated and remote. That’s why I’ve asked this Congress to grant me the authority to consolidate the federal bureaucracy, so that our government is leaner, quicker, and more responsive to the needs of the American people.\n",
    "\n",
    "Finally, none of this can happen unless we also lower the temperature in this town. We need to end the notion that the two parties must be locked in a perpetual campaign of mutual destruction; that politics is about clinging to rigid ideologies instead of building consensus around common-sense ideas.\n",
    "\n",
    "I’m a Democrat. But I believe what Republican Abraham Lincoln believed: That government should do for people only what they cannot do better by themselves, and no more. That’s why my education reform offers more competition, and more control for schools and states. That’s why we’re getting rid of regulations that don’t work. That’s why our health care law relies on a reformed private market, not a government program.\n",
    "\n",
    "On the other hand, even my Republican friends who complain the most about government spending have supported federally financed roads, and clean energy projects, and federal offices for the folks back home.\n",
    "\n",
    "The point is, we should all want a smarter, more effective government. And while we may not be able to bridge our biggest philosophical differences this year, we can make real progress. With or without this Congress, I will keep taking actions that help the economy grow. But I can do a whole lot more with your help. Because when we act together, there’s nothing the United States of America can’t achieve. That’s the lesson we’ve learned from our actions abroad over the last few years.\n",
    "\n",
    "Ending the Iraq war has allowed us to strike decisive blows against our enemies. From Pakistan to Yemen, the al Qaeda operatives who remain are scrambling, knowing that they can’t escape the reach of the United States of America.\n",
    "\n",
    "From this position of strength, we’ve begun to wind down the war in Afghanistan. Ten thousand of our troops have come home. Twenty-three thousand more will leave by the end of this summer. This transition to Afghan lead will continue, and we will build an enduring partnership with Afghanistan, so that it is never again a source of attacks against America.\n",
    "\n",
    "As the tide of war recedes, a wave of change has washed across the Middle East and North Africa, from Tunis to Cairo; from Sana’a to Tripoli. A year ago, Qaddafi was one of the world’s longest-serving dictators -– a murderer with American blood on his hands. Today, he is gone. And in Syria, I have no doubt that the Assad regime will soon discover that the forces of change cannot be reversed, and that human dignity cannot be denied.\n",
    "\n",
    "How this incredible transformation will end remains uncertain. But we have a huge stake in the outcome. And while it’s ultimately up to the people of the region to decide their fate, we will advocate for those values that have served our own country so well. We will stand against violence and intimidation. We will stand for the rights and dignity of all human beings –- men and women; Christians, Muslims and Jews. We will support policies that lead to strong and stable democracies and open markets, because tyranny is no match for liberty.\n",
    "\n",
    "And we will safeguard America’s own security against those who threaten our citizens, our friends, and our interests. Look at Iran. Through the power of our diplomacy, a world that was once divided about how to deal with Iran’s nuclear program now stands as one. The regime is more isolated than ever before; its leaders are faced with crippling sanctions, and as long as they shirk their responsibilities, this pressure will not relent.\n",
    "\n",
    "Let there be no doubt: America is determined to prevent Iran from getting a nuclear weapon, and I will take no options off the table to achieve that goal.\n",
    "\n",
    "But a peaceful resolution of this issue is still possible, and far better, and if Iran changes course and meets its obligations, it can rejoin the community of nations.\n",
    "\n",
    "The renewal of American leadership can be felt across the globe. Our oldest alliances in Europe and Asia are stronger than ever. Our ties to the Americas are deeper. Our ironclad commitment -- and I mean ironclad -- to Israel’s security has meant the closest military cooperation between our two countries in history.\n",
    "\n",
    "We’ve made it clear that America is a Pacific power, and a new beginning in Burma has lit a new hope. From the coalitions we’ve built to secure nuclear materials, to the missions we’ve led against hunger and disease; from the blows we’ve dealt to our enemies, to the enduring power of our moral example, America is back.\n",
    "\n",
    "Anyone who tells you otherwise, anyone who tells you that America is in decline or that our influence has waned, doesn’t know what they’re talking about.\n",
    "\n",
    "That’s not the message we get from leaders around the world who are eager to work with us. That’s not how people feel from Tokyo to Berlin, from Cape Town to Rio, where opinions of America are higher than they’ve been in years. Yes, the world is changing. No, we can’t control every event. But America remains the one indispensable nation in world affairs –- and as long as I’m President, I intend to keep it that way.\n",
    "\n",
    "That’s why, working with our military leaders, I’ve proposed a new defense strategy that ensures we maintain the finest military in the world, while saving nearly half a trillion dollars in our budget. To stay one step ahead of our adversaries, I’ve already sent this Congress legislation that will secure our country from the growing dangers of cyber-threats. Above all, our freedom endures because of the men and women in uniform who defend it. As they come home, we must serve them as well as they’ve served us. That includes giving them the care and the benefits they have earned –- which is why we’ve increased annual VA spending every year I’ve been President. And it means enlisting our veterans in the work of rebuilding our nation.\n",
    "\n",
    "With the bipartisan support of this Congress, we’re providing new tax credits to companies that hire vets. Michelle and Jill Biden have worked with American businesses to secure a pledge of 135,000 jobs for veterans and their families. And tonight, I’m proposing a Veterans Jobs Corps that will help our communities hire veterans as cops and firefighters, so that America is as strong as those who defend her.\n",
    "\n",
    "Which brings me back to where I began. Those of us who’ve been sent here to serve can learn a thing or two from the service of our troops. When you put on that uniform, it doesn’t matter if you’re black or white; Asian, Latino, Native American; conservative, liberal; rich, poor; gay, straight. When you’re marching into battle, you look out for the person next to you, or the mission fails. When you’re in the thick of the fight, you rise or fall as one unit, serving one nation, leaving no one behind.\n",
    "\n",
    "One of my proudest possessions is the flag that the SEAL Team took with them on the mission to get bin Laden. On it are each of their names. Some may be Democrats. Some may be Republicans. But that doesn’t matter. Just like it didn’t matter that day in the Situation Room, when I sat next to Bob Gates -- a man who was George Bush’s defense secretary -- and Hillary Clinton -- a woman who ran against me for president.\n",
    "\n",
    "All that mattered that day was the mission. No one thought about politics. No one thought about themselves. One of the young men involved in the raid later told me that he didn’t deserve credit for the mission. It only succeeded, he said, because every single member of that unit did their job -- the pilot who landed the helicopter that spun out of control; the translator who kept others from entering the compound; the troops who separated the women and children from the fight; the SEALs who charged up the stairs. More than that, the mission only succeeded because every member of that unit trusted each other -- because you can’t charge up those stairs, into darkness and danger, unless you know that there’s somebody behind you, watching your back.\n",
    "\n",
    "So it is with America. Each time I look at that flag, I’m reminded that our destiny is stitched together like those 50 stars and those 13 stripes. No one built this country on their own. This nation is great because we built it together. This nation is great because we worked as a team. This nation is great because we get each other’s backs. And if we hold fast to that truth, in this moment of trial, there is no challenge too great; no mission too hard. As long as we are joined in common purpose, as long as we maintain our common resolve, our journey moves forward, and our future is hopeful, and the state of our Union will always be strong.\n",
    "\n",
    "Thank you, God bless you, and God bless the United States of America\"\"\""
   ]
  },
  {
   "cell_type": "code",
   "execution_count": 39,
   "id": "44e003ac",
   "metadata": {},
   "outputs": [
    {
     "name": "stdout",
     "output_type": "stream",
     "text": [
      "\n",
      "Number of letters = 32251\n",
      "Number of words = 7043\n",
      "Average word length = 4.7 Characters\n",
      "Number of sentences = 39866\n",
      "Average sentence length = 94.02 Characters\n",
      "Longest word = responsibilities,\n",
      "Second longest word = infrastructure.\n",
      "Third longest = responsibility\n",
      "Number of ly words = 48\n",
      "Unique 'ly' wrods = ['assembly ', 'family,', 'really ', 'barely ', 'nearly ', 'only ', 'heavily ', 'directly ', 'tirelessly,', 'July.', 'Recently,', 'quickly.', 'family ', 'recently,', 'strongly ', 'federally ', 'supply ', 'safely ', 'rarely ', 'especially ', 'historically ', 'apply ', 'costly.', 'Absolutely.', 'differently ', 'exactly ', 'finally ', 'highly ', 'Finally,', 'ultimately ']\n"
     ]
    }
   ],
   "source": [
    "count_all(obama_2012)"
   ]
  },
  {
   "cell_type": "code",
   "execution_count": 40,
   "id": "054ad62a",
   "metadata": {},
   "outputs": [
    {
     "name": "stdout",
     "output_type": "stream",
     "text": [
      "\n",
      "Number of letters = 30180\n",
      "Number of words = 6424\n",
      "Average word length = 4.9 Characters\n",
      "Number of sentences = 36557\n",
      "Average sentence length = 81.97 Characters\n",
      "Longest word = African-Americans,\n",
      "Second longest word = African-American\n",
      "Third longest = administration,\n",
      "Number of ly words = 86\n",
      "Unique 'ly' wrods = ['highly ', 'totally ', 'completely ', 'rapidly ', 'relentlessly ', 'family,', 'incredibly,', 'wonderfully,', 'previously ', 'family.', 'only ', 'absolutely ', 'nearly ', 'massively ', 'finally,', 'fairly ', 'frankly,', 'really ', 'exactly ', 'badly ', 'proudly ', 'historically ', 'quickly ', 'substantially ', 'entirely.', 'unlawfully ', 'strongly ', 'fully ', 'Early ', 'actually ', 'properly.', 'dramatically ', 'immediately.', 'closely ', 'family ', 'constantly ', 'finally ', 'surely ', 'recently ', 'especially ', 'Tragically,', 'safely ', 'deadly ', 'viciously ', 'daily ', 'wildly ', 'critically ', 'domestically ', 'illegally ', 'simply ', 'illegally,', 'promptly ', 'importantly,', 'rapidly.', 'financially,', 'perfectly ', 'actively ', 'poorly.', 'quickly,', 'family’']\n"
     ]
    }
   ],
   "source": [
    "count_all(trump_2020)"
   ]
  },
  {
   "cell_type": "code",
   "execution_count": 53,
   "id": "afc1ad78",
   "metadata": {},
   "outputs": [
    {
     "data": {
      "text/plain": [
       "4"
      ]
     },
     "execution_count": 53,
     "metadata": {},
     "output_type": "execute_result"
    }
   ],
   "source": [
    "import re\n",
    "result = re.findall(r'iran', trump_2020,  flags=re.IGNORECASE)\n",
    "len(result)"
   ]
  },
  {
   "cell_type": "code",
   "execution_count": 54,
   "id": "0c236504",
   "metadata": {},
   "outputs": [
    {
     "data": {
      "text/plain": [
       "4"
      ]
     },
     "execution_count": 54,
     "metadata": {},
     "output_type": "execute_result"
    }
   ],
   "source": [
    "import re\n",
    "result = re.findall(r'iran', obama_2012,  flags=re.IGNORECASE)\n",
    "len(result)"
   ]
  },
  {
   "cell_type": "code",
   "execution_count": null,
   "id": "4b0d0709",
   "metadata": {},
   "outputs": [],
   "source": []
  }
 ],
 "metadata": {
  "kernelspec": {
   "display_name": "Python 3 (ipykernel)",
   "language": "python",
   "name": "python3"
  },
  "language_info": {
   "codemirror_mode": {
    "name": "ipython",
    "version": 3
   },
   "file_extension": ".py",
   "mimetype": "text/x-python",
   "name": "python",
   "nbconvert_exporter": "python",
   "pygments_lexer": "ipython3",
   "version": "3.9.7"
  }
 },
 "nbformat": 4,
 "nbformat_minor": 5
}
